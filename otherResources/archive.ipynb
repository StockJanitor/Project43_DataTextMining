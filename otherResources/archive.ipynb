{
 "cells": [
  {
   "cell_type": "markdown",
   "metadata": {},
   "source": [
    "CO2 Emissions<br>\n",
    "https://ourworldindata.org/co2-emissions\n",
    "<br>\n",
    "<br>\n",
    "Kaggle Data Temperature Change<br>\n",
    "https://www.kaggle.com/datasets/sevgisarac/temperature-change?select=Environment_Temperature_change_E_All_Data_NOFLAG.csv\n",
    "<br>\n",
    "<br>\n",
    "Light vehicle sales in the United States between January and December of 2020 and 2021, by manufacturer\n",
    "https://www.statista.com/statistics/204354/us-light-vehicle-sales-in-september-2011-by-company/\n",
    "<br>\n",
    "<br>\n",
    "Estimated plug-in electric light vehicle sales in the United States from 2016 to 2021<br>\n",
    "https://www.statista.com/statistics/665823/sales-of-plug-in-light-vehicles-in-the-us/\n",
    "<br>\n",
    "<br>\n",
    "Light vehicle retail sales in the United States from 1976 to 2021<br>\n",
    "https://www.statista.com/statistics/199983/us-vehicle-sales-since-1951/"
   ]
  },
  {
   "cell_type": "code",
   "execution_count": null,
   "metadata": {},
   "outputs": [],
   "source": []
  }
 ],
 "metadata": {
  "language_info": {
   "name": "python"
  },
  "orig_nbformat": 4
 },
 "nbformat": 4,
 "nbformat_minor": 2
}
