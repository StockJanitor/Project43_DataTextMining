{
 "cells": [
  {
   "cell_type": "markdown",
   "metadata": {},
   "source": [
    "**Reference**\n",
    "- Scrape And Summarize News Articles\n",
    "- https://www.youtube.com/watch?v=YzMA2O_v5co\n",
    "- The video also shows you a web site that you can use to write python code without installing python on your computer"
   ]
  },
  {
   "cell_type": "markdown",
   "metadata": {},
   "source": [
    "#this program scrapes and summaries news articles\n"
   ]
  },
  {
   "cell_type": "code",
   "execution_count": 1,
   "metadata": {},
   "outputs": [],
   "source": [
    "#pip install nltk\n",
    "#pip install newspaper3k"
   ]
  },
  {
   "cell_type": "code",
   "execution_count": 2,
   "metadata": {},
   "outputs": [],
   "source": [
    "#import required libraries\n",
    "import nltk\n",
    "from newspaper import Article\n"
   ]
  },
  {
   "cell_type": "code",
   "execution_count": 3,
   "metadata": {},
   "outputs": [],
   "source": [
    "#get the article\n",
    "#https://www.washingtonpost.com/technology/2019/07/17/you-downloaded-faceapp-heres-what-youve-just-done-your-privacy/\n",
    "url =\"https://www.washingtonpost.com/technology/2019/07/17/you-downloaded-faceapp-heres-what-youve-just-done-your-privacy/\"\n",
    "\n",
    "#create an object of class type Article providing the url as an argument\n",
    "article=Article(url)"
   ]
  },
  {
   "cell_type": "code",
   "execution_count": 4,
   "metadata": {},
   "outputs": [
    {
     "name": "stderr",
     "output_type": "stream",
     "text": [
      "[nltk_data] Downloading package punkt to\n",
      "[nltk_data]     C:\\Users\\szaki5\\AppData\\Roaming\\nltk_data...\n",
      "[nltk_data]   Package punkt is already up-to-date!\n"
     ]
    },
    {
     "data": {
      "text/plain": [
       "True"
      ]
     },
     "execution_count": 4,
     "metadata": {},
     "output_type": "execute_result"
    }
   ],
   "source": [
    "#Do some nlp\n",
    "#download the article\n",
    "article.download()\n",
    "\n",
    "#parse the article\n",
    "article.parse()\n",
    "\n",
    "#download punkt using nltk\n",
    "nltk.download('punkt')\n"
   ]
  },
  {
   "cell_type": "code",
   "execution_count": 5,
   "metadata": {},
   "outputs": [],
   "source": [
    "#do some nlp processing\n",
    "article.nlp()"
   ]
  },
  {
   "cell_type": "code",
   "execution_count": 6,
   "metadata": {},
   "outputs": [
    {
     "data": {
      "text/plain": [
       "['Geoffrey A. Fowler',\n",
       " 'Technology Columnist Based In San Francisco',\n",
       " 'Technology Columnist']"
      ]
     },
     "execution_count": 6,
     "metadata": {},
     "output_type": "execute_result"
    }
   ],
   "source": [
    "#get the authors of the article\n",
    "article.authors"
   ]
  },
  {
   "cell_type": "code",
   "execution_count": 7,
   "metadata": {},
   "outputs": [
    {
     "data": {
      "text/plain": [
       "datetime.datetime(2019, 7, 17, 0, 0)"
      ]
     },
     "execution_count": 7,
     "metadata": {},
     "output_type": "execute_result"
    }
   ],
   "source": [
    "#get the publish date\n",
    "article.publish_date"
   ]
  },
  {
   "cell_type": "code",
   "execution_count": 8,
   "metadata": {},
   "outputs": [
    {
     "data": {
      "text/plain": [
       "'https://www.washingtonpost.com/resizer/p4mCbRw3t6nAwEDs5hf3mY7-3Rk=/1440x0/smart/arc-anglerfish-washpost-prod-washpost.s3.amazonaws.com/public/J76RFFMEIVAJ3NTZ4YEXMMBJGQ.jpg'"
      ]
     },
     "execution_count": 8,
     "metadata": {},
     "output_type": "execute_result"
    }
   ],
   "source": [
    "#get top image of the article\n",
    "article.top_image"
   ]
  },
  {
   "cell_type": "code",
   "execution_count": null,
   "metadata": {},
   "outputs": [],
   "source": [
    "#if you click on the link displayed above you will\n",
    "#see the image of the author"
   ]
  },
  {
   "cell_type": "code",
   "execution_count": 9,
   "metadata": {},
   "outputs": [
    {
     "name": "stdout",
     "output_type": "stream",
     "text": [
      "I got some answers by running my own forensic analysis and talking to the CEO of the company that made the app. But the bigger lesson was how much app-makers and the stores run by Apple and Google leave us flying blind when it comes to privacy.\n",
      "\n",
      "AD\n",
      "\n",
      "AD\n",
      "\n",
      "I raised similar questions a few weeks ago when I ran an experiment to find out what my iPhone did while I slept at night. I found apps sending my personal information to all sorts of tracking companies I’d never heard of.\n",
      "\n",
      "So what about FaceApp? It was vetted by Apple’s App Store and Google’s Play Store, which even labeled it an “Editors’ Choice.” They both link to its privacy policy — which they know nobody reads.\n",
      "\n",
      "Looking under the hood of FaceApp with the tools from my iPhone test, I found it sharing information about my phone with Facebook and Google AdMob, which probably help it place ads and check the performance of its ads. The most unsettling part was how much data FaceApp was sending to its own servers, after which … who knows what happens. It’s not just your own face that FaceApp might gobble up — if you age friends or family members, their face gets uploaded, too.\n",
      "\n",
      "In an email exchange, FaceApp CEO Yaroslav Goncharov tried to clarify some of that.\n",
      "\n",
      "AD\n",
      "\n",
      "AD\n",
      "\n",
      "These five questions are basics we ought to know about any app or service that wants something as personal as our faces.\n",
      "\n",
      "1. What data do they take?\n",
      "\n",
      "FaceApp uploads and processes our photos in the cloud, Goncharov said, but the app will “only upload a photo selected by a user for editing.” The rest of your camera roll stays on your phone. You can also use FaceApp without giving it your name or email — and 99 percent of users do just that, he said.\n",
      "\n",
      "2. How long do they hold on my data?\n",
      "\n",
      "The app’s terms of service grant it a “perpetual” license to our photos. Goncharov said FaceApp deletes “most” of the photos from its servers after 48 hours.\n",
      "\n",
      "3. What are they doing with my data?\n",
      "\n",
      "Is FaceApp using our faces and the maps it makes of them for anything other than the express purpose of the app, such as running facial identification on us? “No,” Goncharov said. Legally, though, the app’s terms give it — and whoever might buy it or work with it in the future — the right to do whatever it wants, through an “irrevocable, nonexclusive, royalty-free, worldwide, fully-paid, transferrable sub-licensable license.” (Clear as mud?)\n",
      "\n",
      "AD\n",
      "\n",
      "AD\n",
      "\n",
      "4. Who has access to my data?\n",
      "\n",
      "Do government authorities in Russia have access to our photos? “No,” Goncharov said. FaceApp’s engineers are based in Russia, so our data is not transferred there. He said the company also doesn’t “sell or share any user data with any third parties” — aside, I pointed out, from what it shares with trackers from Facebook and AdMob. (Another exception: Users in Russia may have their data stored in Russia.)\n",
      "\n",
      "5. How can I delete my data?\n",
      "\n",
      "Just deleting the app won’t get rid of the photos FaceApp may have in the cloud. Goncharov said people can put in a request to delete all data from FaceApp’s servers, but the process is convoluted. “For the fastest processing, we recommend sending the requests from the FaceApp mobile app using ‘Settings->Support->Report a bug’ with the word ‘privacy’ in the subject line. We are working on the better UI [user interface] for that,” he said.\n",
      "\n",
      "AD\n",
      "\n",
      "AD\n",
      "\n",
      "Why not post this information to FaceApp’s website, beyond the legalese? “We are planning to make some improvements,” Goncharov said.\n",
      "\n",
      "Same question for the app stores run by Apple and Google. Those giant companies make money from a cut of upgrades you can purchase in the app. We’re literally paying them to read the privacy policies — and vet that companies such as FaceApp are telling the truth. Why not better help us understand right where we download what’s really going on? Neither company replied with an on-the-record comment.\n",
      "\n",
      "Much better to help us sort through all of this before millions of us upload our faces somewhere we might regret.\n",
      "\n",
      "Read more tech advice and analysis from Geoffrey A. Fowler:\n",
      "\n",
      "AD\n"
     ]
    }
   ],
   "source": [
    "#Get the article text\n",
    "print (article.text)"
   ]
  },
  {
   "cell_type": "code",
   "execution_count": 10,
   "metadata": {},
   "outputs": [
    {
     "name": "stdout",
     "output_type": "stream",
     "text": [
      "The most unsettling part was how much data FaceApp was sending to its own servers, after which … who knows what happens.\n",
      "Goncharov said FaceApp deletes “most” of the photos from its servers after 48 hours.\n",
      "Just deleting the app won’t get rid of the photos FaceApp may have in the cloud.\n",
      "“For the fastest processing, we recommend sending the requests from the FaceApp mobile app using ‘Settings->Support->Report a bug’ with the word ‘privacy’ in the subject line.\n",
      "We’re literally paying them to read the privacy policies — and vet that companies such as FaceApp are telling the truth.\n"
     ]
    }
   ],
   "source": [
    "#get the summary of the article\n",
    "print (article.summary)"
   ]
  },
  {
   "cell_type": "code",
   "execution_count": null,
   "metadata": {},
   "outputs": [],
   "source": []
  }
 ],
 "metadata": {
  "kernelspec": {
   "display_name": "Python 3",
   "language": "python",
   "name": "python3"
  },
  "language_info": {
   "codemirror_mode": {
    "name": "ipython",
    "version": 3
   },
   "file_extension": ".py",
   "mimetype": "text/x-python",
   "name": "python",
   "nbconvert_exporter": "python",
   "pygments_lexer": "ipython3",
   "version": "3.7.4"
  }
 },
 "nbformat": 4,
 "nbformat_minor": 2
}
