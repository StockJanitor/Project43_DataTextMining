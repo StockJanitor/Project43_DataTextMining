{
 "cells": [
  {
   "cell_type": "code",
   "execution_count": 1,
   "metadata": {},
   "outputs": [],
   "source": [
    "#!/usr/bin/env python\n",
    "# coding: utf-8\n",
    "\n",
    "#  \n",
    "# - Python web scraping libraries you need for the course and how to install them.\n",
    "# - How to extract URLs from one webpage.\n",
    "# - How to extract other text data pieces from one webpage.\n",
    "# - How to crawl multiple webpages and extract data from each of them.\n",
    "# - How to handle navigation links and move to *next* pages.\n",
    "# - How to save your scraped data into a CSV file.\n",
    "# - And finally, a quick overview about *other* popular web scraping frameworks.\n",
    "\n",
    "from bs4 import BeautifulSoup\n",
    "import requests \n",
    "import pandas as pd\n"
   ]
  },
  {
   "cell_type": "code",
   "execution_count": 2,
   "metadata": {},
   "outputs": [
    {
     "name": "stdout",
     "output_type": "stream",
     "text": [
      "{'key': 'value'}\n",
      "{'key': 'value', 'new key': 'new value'}\n"
     ]
    }
   ],
   "source": [
    "\n",
    "url = \"https://boston.craigslist.org/search/npo\"\n",
    "\n",
    "\n",
    "# Create a dictionary\n",
    "d = {'key':'value'}\n",
    "print(d)\n",
    "\n",
    "\n",
    "# Update the dictionary\n",
    "d['new key'] = 'new value'\n",
    "print(d)\n"
   ]
  },
  {
   "cell_type": "markdown",
   "metadata": {},
   "source": [
    "**Using developer tools in the ie web browser to find classes used in the web page**\n",
    "![title](Figures_Used/DeveloperTools.png)"
   ]
  },
  {
   "cell_type": "markdown",
   "metadata": {},
   "source": [
    "![title](Figures_Used/elementInspect_result_tile.png)"
   ]
  },
  {
   "cell_type": "markdown",
   "metadata": {},
   "source": [
    "![title](Figures_Used/elementInspect_result_tile2.png)"
   ]
  },
  {
   "cell_type": "markdown",
   "metadata": {},
   "source": [
    "![title](Figures_Used/emelmentInstpect_result_date.png)"
   ]
  },
  {
   "cell_type": "markdown",
   "metadata": {},
   "source": [
    "![title](Figures_Used/elementInspect_Location.png)"
   ]
  },
  {
   "cell_type": "markdown",
   "metadata": {},
   "source": [
    "![title](Figures_Used/elementInspect_Location2.png)"
   ]
  },
  {
   "cell_type": "markdown",
   "metadata": {},
   "source": [
    "![title](Figures_Used/elementInspectPosition1.png)"
   ]
  },
  {
   "cell_type": "markdown",
   "metadata": {},
   "source": [
    "![title](Figures_Used/elementInspectPosition2.png)"
   ]
  },
  {
   "cell_type": "code",
   "execution_count": 3,
   "metadata": {},
   "outputs": [],
   "source": [
    "npo_jobs = {}\n",
    "job_no = 0\n",
    "while True:\n",
    "    \n",
    "    response = requests.get(url)\n",
    "    data = response.text\n",
    "    soup = BeautifulSoup(data,'html.parser')\n",
    "    jobs = soup.find_all('p',{'class':'result-info'})\n",
    "    \n",
    "    for job in jobs:\n",
    "        \n",
    "        title = job.find('a',{'class':'result-title'}).text\n",
    "        location_tag = job.find('span',{'class':'result-hood'})\n",
    "        location = location_tag.text[2:-1] if location_tag else \"N/A\"\n",
    "        date = job.find('time', {'class': 'result-date'}).text\n",
    "        link = job.find('a', {'class': 'result-title'}).get('href')\n",
    "        \n",
    "        job_response = requests.get(link)\n",
    "        job_data = job_response.text\n",
    "        job_soup = BeautifulSoup(job_data, 'html.parser')\n",
    "        job_description = job_soup.find('section',{'id':'postingbody'}).text\n",
    "        job_attributes_tag = job_soup.find('p',{'class':'attrgroup'})\n",
    "        job_attributes = job_attributes_tag.text if job_attributes_tag else \"N/A\"\n",
    "        \n",
    "        job_no+=1\n",
    "        npo_jobs[job_no] = [title, location, date, link, job_attributes, job_description]\n",
    "        \n",
    "        \n",
    "#       print('Job Title:', title, '\\nLocation:', location, '\\nDate:', date, '\\nLink:', link,\"\\n\", job_attributes, '\\nJob Description:', job_description,'\\n---')\n",
    "        \n",
    "    url_tag = soup.find('a',{'title':'next page'})\n",
    "    if url_tag.get('href'):\n",
    "        url= 'https://boston.craigslist.org' + url_tag.get('href')\n",
    "        print(url)\n",
    "    else:\n",
    "        break\n",
    "        \n",
    "\n",
    "\n",
    "\n"
   ]
  },
  {
   "cell_type": "markdown",
   "metadata": {},
   "source": [
    "![title](Figures_Used/elementInspect_Attr.png)"
   ]
  },
  {
   "cell_type": "code",
   "execution_count": 4,
   "metadata": {},
   "outputs": [
    {
     "name": "stdout",
     "output_type": "stream",
     "text": [
      "Total Jobs: 116\n"
     ]
    },
    {
     "data": {
      "text/html": [
       "<div>\n",
       "<style scoped>\n",
       "    .dataframe tbody tr th:only-of-type {\n",
       "        vertical-align: middle;\n",
       "    }\n",
       "\n",
       "    .dataframe tbody tr th {\n",
       "        vertical-align: top;\n",
       "    }\n",
       "\n",
       "    .dataframe thead th {\n",
       "        text-align: right;\n",
       "    }\n",
       "</style>\n",
       "<table border=\"1\" class=\"dataframe\">\n",
       "  <thead>\n",
       "    <tr style=\"text-align: right;\">\n",
       "      <th></th>\n",
       "      <th>Job Title</th>\n",
       "      <th>Location</th>\n",
       "      <th>Date</th>\n",
       "      <th>Link</th>\n",
       "      <th>Job Attributes</th>\n",
       "      <th>Job Description</th>\n",
       "    </tr>\n",
       "  </thead>\n",
       "  <tbody>\n",
       "    <tr>\n",
       "      <th>1</th>\n",
       "      <td>Quality and Compliance Manager</td>\n",
       "      <td>Waltham, MA</td>\n",
       "      <td>May 13</td>\n",
       "      <td>https://boston.craigslist.org/gbs/npo/d/waltha...</td>\n",
       "      <td>\\ncompensation: Competitive salary\\n\\nemployme...</td>\n",
       "      <td>\\n\\nQR Code Link to This Post\\n\\n\\nExciting op...</td>\n",
       "    </tr>\n",
       "    <tr>\n",
       "      <th>2</th>\n",
       "      <td>Administrative Assistant</td>\n",
       "      <td>Waltham, MA</td>\n",
       "      <td>May 13</td>\n",
       "      <td>https://boston.craigslist.org/gbs/npo/d/waltha...</td>\n",
       "      <td>\\ncompensation: Competitive pay\\n\\nemployment ...</td>\n",
       "      <td>\\n\\nQR Code Link to This Post\\n\\n\\nSpringwell ...</td>\n",
       "    </tr>\n",
       "    <tr>\n",
       "      <th>3</th>\n",
       "      <td>Human Resources Recruitment Coordinator</td>\n",
       "      <td>Waltham, MA</td>\n",
       "      <td>May 13</td>\n",
       "      <td>https://boston.craigslist.org/gbs/npo/d/waltha...</td>\n",
       "      <td>\\ncompensation: Competitive\\n\\nemployment type...</td>\n",
       "      <td>\\n\\nQR Code Link to This Post\\n\\n\\nSpringwell ...</td>\n",
       "    </tr>\n",
       "    <tr>\n",
       "      <th>4</th>\n",
       "      <td>Nurse Manager</td>\n",
       "      <td>Waltham, MA</td>\n",
       "      <td>May 13</td>\n",
       "      <td>https://boston.craigslist.org/gbs/npo/d/waltha...</td>\n",
       "      <td>\\ncompensation: Competitive salary\\n\\nemployme...</td>\n",
       "      <td>\\n\\nQR Code Link to This Post\\n\\n\\nExciting op...</td>\n",
       "    </tr>\n",
       "    <tr>\n",
       "      <th>5</th>\n",
       "      <td>Registered Nurse, 70k/year</td>\n",
       "      <td>Waltham, MA</td>\n",
       "      <td>May 13</td>\n",
       "      <td>https://boston.craigslist.org/gbs/npo/d/waltha...</td>\n",
       "      <td>\\ncompensation: $70k annually Salary\\n\\nemploy...</td>\n",
       "      <td>\\n\\nQR Code Link to This Post\\n\\n\\nAre you a R...</td>\n",
       "    </tr>\n",
       "  </tbody>\n",
       "</table>\n",
       "</div>"
      ],
      "text/plain": [
       "                                 Job Title     Location    Date  \\\n",
       "1           Quality and Compliance Manager  Waltham, MA  May 13   \n",
       "2                 Administrative Assistant  Waltham, MA  May 13   \n",
       "3  Human Resources Recruitment Coordinator  Waltham, MA  May 13   \n",
       "4                            Nurse Manager  Waltham, MA  May 13   \n",
       "5               Registered Nurse, 70k/year  Waltham, MA  May 13   \n",
       "\n",
       "                                                Link  \\\n",
       "1  https://boston.craigslist.org/gbs/npo/d/waltha...   \n",
       "2  https://boston.craigslist.org/gbs/npo/d/waltha...   \n",
       "3  https://boston.craigslist.org/gbs/npo/d/waltha...   \n",
       "4  https://boston.craigslist.org/gbs/npo/d/waltha...   \n",
       "5  https://boston.craigslist.org/gbs/npo/d/waltha...   \n",
       "\n",
       "                                      Job Attributes  \\\n",
       "1  \\ncompensation: Competitive salary\\n\\nemployme...   \n",
       "2  \\ncompensation: Competitive pay\\n\\nemployment ...   \n",
       "3  \\ncompensation: Competitive\\n\\nemployment type...   \n",
       "4  \\ncompensation: Competitive salary\\n\\nemployme...   \n",
       "5  \\ncompensation: $70k annually Salary\\n\\nemploy...   \n",
       "\n",
       "                                     Job Description  \n",
       "1  \\n\\nQR Code Link to This Post\\n\\n\\nExciting op...  \n",
       "2  \\n\\nQR Code Link to This Post\\n\\n\\nSpringwell ...  \n",
       "3  \\n\\nQR Code Link to This Post\\n\\n\\nSpringwell ...  \n",
       "4  \\n\\nQR Code Link to This Post\\n\\n\\nExciting op...  \n",
       "5  \\n\\nQR Code Link to This Post\\n\\n\\nAre you a R...  "
      ]
     },
     "execution_count": 4,
     "metadata": {},
     "output_type": "execute_result"
    }
   ],
   "source": [
    "print(\"Total Jobs:\", job_no)\n",
    "npo_jobs_df = pd.DataFrame.from_dict(npo_jobs, orient = 'index', columns = ['Job Title','Location','Date', 'Link', 'Job Attributes', 'Job Description'])\n",
    "\n",
    "\n",
    "npo_jobs_df.head()\n"
   ]
  },
  {
   "cell_type": "code",
   "execution_count": 6,
   "metadata": {},
   "outputs": [],
   "source": [
    "npo_jobs_df.to_csv('data/npo_jobs.csv')"
   ]
  },
  {
   "cell_type": "code",
   "execution_count": null,
   "metadata": {},
   "outputs": [],
   "source": []
  }
 ],
 "metadata": {
  "kernelspec": {
   "display_name": "Python 3",
   "language": "python",
   "name": "python3"
  },
  "language_info": {
   "codemirror_mode": {
    "name": "ipython",
    "version": 3
   },
   "file_extension": ".py",
   "mimetype": "text/x-python",
   "name": "python",
   "nbconvert_exporter": "python",
   "pygments_lexer": "ipython3",
   "version": "3.9.6"
  }
 },
 "nbformat": 4,
 "nbformat_minor": 2
}
