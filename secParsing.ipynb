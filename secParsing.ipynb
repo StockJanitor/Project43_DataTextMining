{
 "cells": [
  {
   "cell_type": "code",
   "execution_count": 1,
   "metadata": {},
   "outputs": [],
   "source": [
    "import requests\n",
    "from bs4 import BeautifulSoup\n",
    "import re\n",
    "import unicodedata\n",
    "import matplotlib.pyplot as plt\n",
    "import pandas as pd\n",
    "from sec_edgar_downloader import Downloader\n",
    "# https://sec-edgar-downloader.readthedocs.io/en/latest/"
   ]
  },
  {
   "cell_type": "markdown",
   "metadata": {},
   "source": [
    "#### Download Files"
   ]
  },
  {
   "cell_type": "code",
   "execution_count": 2,
   "metadata": {},
   "outputs": [
    {
     "data": {
      "text/plain": [
       "1"
      ]
     },
     "execution_count": 2,
     "metadata": {},
     "output_type": "execute_result"
    }
   ],
   "source": [
    "dl = Downloader(\"data/\")\n",
    "dl.get(\"10-K\", \"MSFT\", amount=1)"
   ]
  },
  {
   "cell_type": "markdown",
   "metadata": {},
   "source": [
    "#### Youtube Way (Filings after 2009)"
   ]
  },
  {
   "cell_type": "markdown",
   "metadata": {},
   "source": [
    "##### Functions"
   ]
  },
  {
   "cell_type": "code",
   "execution_count": 2,
   "metadata": {},
   "outputs": [],
   "source": [
    "'''\n",
    "Link\n",
    "https://github.com/areed1192/sigma_coding_youtube/blob/master/python/python-finance/sec-web-scraping/Web%20Scraping%20SEC%20-%20Parsing%20SEC%20Documents%20-%20New%20Filings.ipynb\n",
    "\n",
    "'''\n",
    "# Function - Decode/normalize text\n",
    "# sec filings are a mess, we need normalize/decode texts\n",
    "# so we need apply the following function. source provided above\n",
    "# function - finds qualifying matches and decodes them, replace into string\n",
    "def restore_windows_1252_characters(restore_string):\n",
    "    \"\"\"\n",
    "        Replace C1 control characters in the Unicode string s by the\n",
    "        characters at the corresponding code points in Windows-1252,\n",
    "        where possible.\n",
    "    \"\"\"\n",
    "\n",
    "    def to_windows_1252(match):\n",
    "        try:\n",
    "            return bytes([ord(match.group(0))]).decode('windows-1252')\n",
    "        except UnicodeDecodeError:\n",
    "            # No character at the corresponding code point: remove it.\n",
    "            return ''\n",
    "        \n",
    "    return re.sub(r'[\\u0080-\\u0099]', to_windows_1252, restore_string)"
   ]
  },
  {
   "cell_type": "code",
   "execution_count": 3,
   "metadata": {},
   "outputs": [],
   "source": [
    "# load local html file\n",
    "\n",
    "path = r\"C:\\Users\\Gumo\\Desktop\\Git\\Class\\CIS43_DataTextMining\\data\\sec-edgar-filings\\MSFT\\10-K\\0001564590-21-039151\\full-submission.txt\"\n",
    "with open(path) as html_file:\n",
    "    soup = BeautifulSoup(html_file, 'lxml')"
   ]
  },
  {
   "cell_type": "markdown",
   "metadata": {},
   "source": [
    "##### Variable - Filing"
   ]
  },
  {
   "cell_type": "code",
   "execution_count": 4,
   "metadata": {},
   "outputs": [],
   "source": [
    "# initialize dictionary\n",
    "\n",
    "# define a dictionary that will house all filings.\n",
    "master_filings_dict = {}\n",
    "\n",
    "# let's use the accession number as the key. This \n",
    "accession_number = '0001564590-21-039151'\n",
    "\n",
    "# add a new level to our master_filing_dict, this will also be a dictionary.\n",
    "master_filings_dict[accession_number] = {}\n",
    "\n",
    "# this dictionary will contain two keys, the sec header content, and a documents key.\n",
    "master_filings_dict[accession_number]['sec_header_content'] = {}\n",
    "master_filings_dict[accession_number]['filing_documents'] = None"
   ]
  },
  {
   "cell_type": "code",
   "execution_count": 5,
   "metadata": {},
   "outputs": [
    {
     "data": {
      "text/plain": [
       "<sec-header>0001564590-21-039151.hdr.sgml : 20210729\n",
       "<acceptance-datetime>20210729162155\n",
       "ACCESSION NUMBER:\t\t0001564590-21-039151\n",
       "CONFORMED SUBMISSION TYPE:\t10-K\n",
       "PUBLIC DOCUMENT COUNT:\t\t133\n",
       "CONFORMED PERIOD OF REPORT:\t20210630\n",
       "FILED AS OF DATE:\t\t20210729\n",
       "DATE AS OF CHANGE:\t\t20210729\n",
       "\n",
       "FILER:\n",
       "\n",
       "\tCOMPANY DATA:\t\n",
       "\t\tCOMPANY CONFORMED NAME:\t\t\tMICROSOFT CORP\n",
       "\t\tCENTRAL INDEX KEY:\t\t\t0000789019\n",
       "\t\tSTANDARD INDUSTRIAL CLASSIFICATION:\tSERVICES-PREPACKAGED SOFTWARE [7372]\n",
       "\t\tIRS NUMBER:\t\t\t\t911144442\n",
       "\t\tSTATE OF INCORPORATION:\t\t\tWA\n",
       "\t\tFISCAL YEAR END:\t\t\t0630\n",
       "\n",
       "\tFILING VALUES:\n",
       "\t\tFORM TYPE:\t\t10-K\n",
       "\t\tSEC ACT:\t\t1934 Act\n",
       "\t\tSEC FILE NUMBER:\t001-37845\n",
       "\t\tFILM NUMBER:\t\t211127769\n",
       "\n",
       "\tBUSINESS ADDRESS:\t\n",
       "\t\tSTREET 1:\t\tONE MICROSOFT WAY\n",
       "\t\tCITY:\t\t\tREDMOND\n",
       "\t\tSTATE:\t\t\tWA\n",
       "\t\tZIP:\t\t\t98052-6399\n",
       "\t\tBUSINESS PHONE:\t\t425-882-8080\n",
       "\n",
       "\tMAIL ADDRESS:\t\n",
       "\t\tSTREET 1:\t\tONE MICROSOFT WAY\n",
       "\t\tCITY:\t\t\tREDMOND\n",
       "\t\tSTATE:\t\t\tWA\n",
       "\t\tZIP:\t\t\t98052-6399\n",
       "</acceptance-datetime></sec-header>"
      ]
     },
     "execution_count": 5,
     "metadata": {},
     "output_type": "execute_result"
    }
   ],
   "source": [
    "# grab the sec-header tag, so we can store it in the master filing dictionary.\n",
    "sec_header_tag = soup.find('sec-header')\n",
    "\n",
    "# store the tag in the dictionary just as is.\n",
    "master_filings_dict[accession_number]['sec_header_content']['sec_header_code'] = sec_header_tag\n",
    "\n",
    "# display the sec header tag, so you can see how it looks.\n",
    "sec_header_tag"
   ]
  },
  {
   "cell_type": "markdown",
   "metadata": {},
   "source": [
    "##### Variable - Document"
   ]
  },
  {
   "cell_type": "code",
   "execution_count": 6,
   "metadata": {},
   "outputs": [
    {
     "name": "stdout",
     "output_type": "stream",
     "text": [
      "--------------------------------------------------------------------------------\n",
      "All the documents for filing 0001564590-21-039151 were parsed and stored.\n"
     ]
    }
   ],
   "source": [
    "# initialize dict for documents filed\n",
    "master_document_dict = {}\n",
    "\n",
    "# loop through\n",
    "for filing_document in soup.find_all('document'):\n",
    "    \n",
    "    # define document id:   recursive false only returns text with the \"type\" tag\n",
    "    document_id = filing_document.type.find(text=True, recursive=False).strip()\n",
    "\n",
    "\n",
    "    # document sequence\n",
    "    document_sequence = filing_document.sequence.find(text=True, recursive=False).strip()\n",
    "\n",
    "    # document file name\n",
    "    document_filename = filing_document.filename.find(text=True, recursive=False).strip()\n",
    "    \n",
    "    # document description\n",
    "    document_description = filing_document.description.find(text=True, recursive=False).strip()\n",
    "    \n",
    "    # initalize document dictionary with document id\n",
    "    master_document_dict[document_id] = {}\n",
    "\n",
    "    # add the parts into the dict\n",
    "    master_document_dict[document_id]['document_sequence'] = document_sequence\n",
    "    master_document_dict[document_id]['document_filename'] = document_filename\n",
    "    master_document_dict[document_id]['document_description'] = document_description\n",
    "\n",
    "    # store \"everything\" of the document content itself into document_code\n",
    "    master_document_dict[document_id]['document_code'] = filing_document.extract()\n",
    "\n",
    "    # store all text in the filing_doc_text\n",
    "    filing_doc_text = filing_document.find('text').extract()\n",
    "\n",
    "    # store page break \n",
    "    all_thematic_breaks = filing_doc_text.find_all('hr',{'style':'page-break-after:always'})\n",
    "\n",
    "    # # convert the breaks into string\n",
    "    # all_thematic_breaks = [str(thematic_break) for thematic_break in all_thematic_breaks]\n",
    "\n",
    "    # # prepare to split, so convert the doc text into string format\n",
    "    # filing_doc_string = str(filing_doc_text)\n",
    "\n",
    "    # if len(all_thematic_breaks) > 0:\n",
    "\n",
    "    #     # create pattern to split\n",
    "    #     regex_delimiter_pattern = '|'.join(map(re.escape, all_thematic_breaks))\n",
    "\n",
    "    #     # split the document with regex pattern\n",
    "    #     split_filing_string = re.split(regex_delimiter_pattern, filing_doc_string)\n",
    "\n",
    "    #     #store in dict\n",
    "    #     master_document_dict[document_id]['pages_code'] = split_filing_string\n",
    "    # elif len(all_thematic_breaks) == 0:\n",
    "\n",
    "    #     split_filing_string = all_thematic_breaks\n",
    "    #     # if its 0 store into a list\n",
    "    #     master_document_dict[document_id]['pages_code'] = [split_filing_string]\n",
    "    \n",
    "# # store back to master filing dict\n",
    "# master_filings_dict[accession_number]['filing_documents'] = master_document_dict    \n",
    "\n",
    "# store the documents in the master_filing_dictionary.\n",
    "master_filings_dict[accession_number]['filing_documents'] = master_document_dict\n",
    "\n",
    "print('-'*80)\n",
    "print('All the documents for filing {} were parsed and stored.'.format(accession_number))\n",
    "\n"
   ]
  },
  {
   "cell_type": "code",
   "execution_count": 7,
   "metadata": {},
   "outputs": [
    {
     "data": {
      "text/plain": [
       "{'0001564590-21-039151': {'sec_header_content': {'sec_header_code': <sec-header>0001564590-21-039151.hdr.sgml : 20210729\n",
       "   <acceptance-datetime>20210729162155\n",
       "   ACCESSION NUMBER:\t\t0001564590-21-039151\n",
       "   CONFORMED SUBMISSION TYPE:\t10-K\n",
       "   PUBLIC DOCUMENT COUNT:\t\t133\n",
       "   CONFORMED PERIOD OF REPORT:\t20210630\n",
       "   FILED AS OF DATE:\t\t20210729\n",
       "   DATE AS OF CHANGE:\t\t20210729\n",
       "   \n",
       "   FILER:\n",
       "   \n",
       "   \tCOMPANY DATA:\t\n",
       "   \t\tCOMPANY CONFORMED NAME:\t\t\tMICROSOFT CORP\n",
       "   \t\tCENTRAL INDEX KEY:\t\t\t0000789019\n",
       "   \t\tSTANDARD INDUSTRIAL CLASSIFICATION:\tSERVICES-PREPACKAGED SOFTWARE [7372]\n",
       "   \t\tIRS NUMBER:\t\t\t\t911144442\n",
       "   \t\tSTATE OF INCORPORATION:\t\t\tWA\n",
       "   \t\tFISCAL YEAR END:\t\t\t0630\n",
       "   \n",
       "   \tFILING VALUES:\n",
       "   \t\tFORM TYPE:\t\t10-K\n",
       "   \t\tSEC ACT:\t\t1934 Act\n",
       "   \t\tSEC FILE NUMBER:\t001-37845\n",
       "   \t\tFILM NUMBER:\t\t211127769\n",
       "   \n",
       "   \tBUSINESS ADDRESS:\t\n",
       "   \t\tSTREET 1:\t\tONE MICROSOFT WAY\n",
       "   \t\tCITY:\t\t\tREDMOND\n",
       "   \t\tSTATE:\t\t\tWA\n",
       "   \t\tZIP:\t\t\t98052-6399\n",
       "   \t\tBUSINESS PHONE:\t\t425-882-8080\n",
       "   \n",
       "   \tMAIL ADDRESS:\t\n",
       "   \t\tSTREET 1:\t\tONE MICROSOFT WAY\n",
       "   \t\tCITY:\t\t\tREDMOND\n",
       "   \t\tSTATE:\t\t\tWA\n",
       "   \t\tZIP:\t\t\t98052-6399\n",
       "   </acceptance-datetime></sec-header>},\n",
       "  'filing_documents': {'10-K': {'document_sequence': '1',\n",
       "    'document_filename': 'msft-10k_20210630.htm',\n",
       "    'document_description': '10-K',\n",
       "    'document_code': <document>\n",
       "    <type>10-K\n",
       "    <sequence>1\n",
       "    <filename>msft-10k_20210630.htm\n",
       "    <description>10-K\n",
       "    \n",
       "    </description></filename></sequence></type></document>},\n",
       "   'EX-21': {'document_sequence': '2',\n",
       "    'document_filename': 'msft-ex21_10.htm',\n",
       "    'document_description': 'EX-21',\n",
       "    'document_code': <document>\n",
       "    <type>EX-21\n",
       "    <sequence>2\n",
       "    <filename>msft-ex21_10.htm\n",
       "    <description>EX-21\n",
       "    \n",
       "    </description></filename></sequence></type></document>},\n",
       "   'EX-23.1': {'document_sequence': '3',\n",
       "    'document_filename': 'msft-ex231_9.htm',\n",
       "    'document_description': 'EX-23.1',\n",
       "    'document_code': <document>\n",
       "    <type>EX-23.1\n",
       "    <sequence>3\n",
       "    <filename>msft-ex231_9.htm\n",
       "    <description>EX-23.1\n",
       "    \n",
       "    </description></filename></sequence></type></document>},\n",
       "   'EX-31.1': {'document_sequence': '4',\n",
       "    'document_filename': 'msft-ex311_8.htm',\n",
       "    'document_description': 'EX-31.1',\n",
       "    'document_code': <document>\n",
       "    <type>EX-31.1\n",
       "    <sequence>4\n",
       "    <filename>msft-ex311_8.htm\n",
       "    <description>EX-31.1\n",
       "    \n",
       "    </description></filename></sequence></type></document>},\n",
       "   'EX-31.2': {'document_sequence': '5',\n",
       "    'document_filename': 'msft-ex312_7.htm',\n",
       "    'document_description': 'EX-31.2',\n",
       "    'document_code': <document>\n",
       "    <type>EX-31.2\n",
       "    <sequence>5\n",
       "    <filename>msft-ex312_7.htm\n",
       "    <description>EX-31.2\n",
       "    \n",
       "    </description></filename></sequence></type></document>},\n",
       "   'EX-32.1': {'document_sequence': '6',\n",
       "    'document_filename': 'msft-ex321_13.htm',\n",
       "    'document_description': 'EX-32.1',\n",
       "    'document_code': <document>\n",
       "    <type>EX-32.1\n",
       "    <sequence>6\n",
       "    <filename>msft-ex321_13.htm\n",
       "    <description>EX-32.1\n",
       "    \n",
       "    </description></filename></sequence></type></document>},\n",
       "   'EX-32.2': {'document_sequence': '7',\n",
       "    'document_filename': 'msft-ex322_12.htm',\n",
       "    'document_description': 'EX-32.2',\n",
       "    'document_code': <document>\n",
       "    <type>EX-32.2\n",
       "    <sequence>7\n",
       "    <filename>msft-ex322_12.htm\n",
       "    <description>EX-32.2\n",
       "    \n",
       "    </description></filename></sequence></type></document>},\n",
       "   'EX-101.SCH': {'document_sequence': '8',\n",
       "    'document_filename': 'msft-20210630.xsd',\n",
       "    'document_description': 'XBRL TAXONOMY EXTENSION SCHEMA',\n",
       "    'document_code': <document>\n",
       "    <type>EX-101.SCH\n",
       "    <sequence>8\n",
       "    <filename>msft-20210630.xsd\n",
       "    <description>XBRL TAXONOMY EXTENSION SCHEMA\n",
       "    \n",
       "    </description></filename></sequence></type></document>},\n",
       "   'EX-101.CAL': {'document_sequence': '9',\n",
       "    'document_filename': 'msft-20210630_cal.xml',\n",
       "    'document_description': 'XBRL TAXONOMY EXTENSION CALCULATION LINKBASE',\n",
       "    'document_code': <document>\n",
       "    <type>EX-101.CAL\n",
       "    <sequence>9\n",
       "    <filename>msft-20210630_cal.xml\n",
       "    <description>XBRL TAXONOMY EXTENSION CALCULATION LINKBASE\n",
       "    \n",
       "    </description></filename></sequence></type></document>},\n",
       "   'EX-101.DEF': {'document_sequence': '10',\n",
       "    'document_filename': 'msft-20210630_def.xml',\n",
       "    'document_description': 'XBRL TAXONOMY EXTENSION DEFINITION LINKBASE',\n",
       "    'document_code': <document>\n",
       "    <type>EX-101.DEF\n",
       "    <sequence>10\n",
       "    <filename>msft-20210630_def.xml\n",
       "    <description>XBRL TAXONOMY EXTENSION DEFINITION LINKBASE\n",
       "    \n",
       "    </description></filename></sequence></type></document>},\n",
       "   'EX-101.LAB': {'document_sequence': '11',\n",
       "    'document_filename': 'msft-20210630_lab.xml',\n",
       "    'document_description': 'XBRL TAXONOMY EXTENSION LABEL LINKBASE',\n",
       "    'document_code': <document>\n",
       "    <type>EX-101.LAB\n",
       "    <sequence>11\n",
       "    <filename>msft-20210630_lab.xml\n",
       "    <description>XBRL TAXONOMY EXTENSION LABEL LINKBASE\n",
       "    \n",
       "    </description></filename></sequence></type></document>},\n",
       "   'EX-101.PRE': {'document_sequence': '12',\n",
       "    'document_filename': 'msft-20210630_pre.xml',\n",
       "    'document_description': 'XBRL TAXONOMY EXTENSION PRESENTATION LINKBASE',\n",
       "    'document_code': <document>\n",
       "    <type>EX-101.PRE\n",
       "    <sequence>12\n",
       "    <filename>msft-20210630_pre.xml\n",
       "    <description>XBRL TAXONOMY EXTENSION PRESENTATION LINKBASE\n",
       "    \n",
       "    </description></filename></sequence></type></document>},\n",
       "   'XML': {'document_sequence': '131',\n",
       "    'document_filename': 'FilingSummary.xml',\n",
       "    'document_description': 'IDEA: XBRL DOCUMENT',\n",
       "    'document_code': <document>\n",
       "    <type>XML\n",
       "    <sequence>131\n",
       "    <filename>FilingSummary.xml\n",
       "    <description>IDEA: XBRL DOCUMENT\n",
       "    \n",
       "    </description></filename></sequence></type></document>},\n",
       "   'EXCEL': {'document_sequence': '128',\n",
       "    'document_filename': 'Financial_Report.xlsx',\n",
       "    'document_description': 'IDEA: XBRL DOCUMENT',\n",
       "    'document_code': <document>\n",
       "    <type>EXCEL\n",
       "    <sequence>128\n",
       "    <filename>Financial_Report.xlsx\n",
       "    <description>IDEA: XBRL DOCUMENT\n",
       "    \n",
       "    </description></filename></sequence></type></document>},\n",
       "   'JSON': {'document_sequence': '134',\n",
       "    'document_filename': 'MetaLinks.json',\n",
       "    'document_description': 'IDEA: XBRL DOCUMENT',\n",
       "    'document_code': <document>\n",
       "    <type>JSON\n",
       "    <sequence>134\n",
       "    <filename>MetaLinks.json\n",
       "    <description>IDEA: XBRL DOCUMENT\n",
       "    \n",
       "    </description></filename></sequence></type></document>},\n",
       "   'ZIP': {'document_sequence': '135',\n",
       "    'document_filename': '0001564590-21-039151-xbrl.zip',\n",
       "    'document_description': 'IDEA: XBRL DOCUMENT',\n",
       "    'document_code': <document>\n",
       "    <type>ZIP\n",
       "    <sequence>135\n",
       "    <filename>0001564590-21-039151-xbrl.zip\n",
       "    <description>IDEA: XBRL DOCUMENT\n",
       "    </description></filename></sequence></type></document>}}}}"
      ]
     },
     "execution_count": 7,
     "metadata": {},
     "output_type": "execute_result"
    }
   ],
   "source": [
    "master_filings_dict"
   ]
  },
  {
   "cell_type": "markdown",
   "metadata": {},
   "source": []
  },
  {
   "cell_type": "markdown",
   "metadata": {},
   "source": [
    "#### Professor Way"
   ]
  },
  {
   "cell_type": "code",
   "execution_count": 3,
   "metadata": {},
   "outputs": [],
   "source": [
    "# load local html file\n",
    "\n",
    "path = r\"C:\\Users\\Gumo\\Desktop\\Git\\Class\\CIS43_DataTextMining\\data\\sec-edgar-filings\\MSFT\\10-K\\0001564590-21-039151\\full-submission.txt\"\n",
    "with open(path) as html_file:\n",
    "    soup = BeautifulSoup(html_file, '')"
   ]
  },
  {
   "cell_type": "code",
   "execution_count": 10,
   "metadata": {},
   "outputs": [],
   "source": [
    "soup.find_all(\"table\")"
   ]
  },
  {
   "cell_type": "code",
   "execution_count": 10,
   "metadata": {},
   "outputs": [],
   "source": [
    "soup.find(\"p\",{'id':'BALANCE SHEETS'})"
   ]
  },
  {
   "cell_type": "code",
   "execution_count": 13,
   "metadata": {},
   "outputs": [
    {
     "data": {
      "text/plain": [
       "1"
      ]
     },
     "execution_count": 13,
     "metadata": {},
     "output_type": "execute_result"
    }
   ],
   "source": []
  },
  {
   "cell_type": "code",
   "execution_count": null,
   "metadata": {},
   "outputs": [],
   "source": [
    "'''\n",
    "SEC Parsing youtube\n",
    "https://www.youtube.com/watch?v=TxUmufNnIaA&t=2s\n",
    "\n",
    "Github\n",
    "https://github.com/areed1192/sigma_coding_youtube/blob/master/python/python-finance/sec-web-scraping/Web%20Scraping%20SEC%20-%20Parsing%20SEC%20Documents%20-%20New%20Filings.ipynb\n",
    "\n",
    "sec api documentation\n",
    "https://sec-edgar-downloader.readthedocs.io/en/latest/\n",
    "\n",
    "beautifulsoup\n",
    "https://www.youtube.com/watch?v=ng2o98k983k\n",
    "\n",
    "\n",
    "\n",
    "\n",
    "'''"
   ]
  }
 ],
 "metadata": {
  "interpreter": {
   "hash": "a078425411422aa865ededce911f5aebbd4cde69bb2ea2ab5956ec6a35024297"
  },
  "kernelspec": {
   "display_name": "desktop_env",
   "language": "python",
   "name": "desktop_env"
  },
  "language_info": {
   "codemirror_mode": {
    "name": "ipython",
    "version": 3
   },
   "file_extension": ".py",
   "mimetype": "text/x-python",
   "name": "python",
   "nbconvert_exporter": "python",
   "pygments_lexer": "ipython3",
   "version": "3.9.6"
  },
  "orig_nbformat": 4
 },
 "nbformat": 4,
 "nbformat_minor": 2
}
