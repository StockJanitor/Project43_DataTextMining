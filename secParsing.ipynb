{
 "cells": [
  {
   "cell_type": "code",
   "execution_count": 1,
   "metadata": {},
   "outputs": [],
   "source": [
    "import requests\n",
    "from bs4 import BeautifulSoup\n",
    "import re\n",
    "import unicodedata\n",
    "\n",
    "from sec_edgar_downloader import Downloader\n",
    "# https://sec-edgar-downloader.readthedocs.io/en/latest/"
   ]
  },
  {
   "cell_type": "markdown",
   "metadata": {},
   "source": [
    "#### Download Files"
   ]
  },
  {
   "cell_type": "code",
   "execution_count": 2,
   "metadata": {},
   "outputs": [
    {
     "data": {
      "text/plain": [
       "1"
      ]
     },
     "execution_count": 2,
     "metadata": {},
     "output_type": "execute_result"
    }
   ],
   "source": [
    "dl = Downloader(\"data/\")\n",
    "dl.get(\"10-K\", \"MSFT\", amount=1)"
   ]
  },
  {
   "cell_type": "code",
   "execution_count": 4,
   "metadata": {},
   "outputs": [
    {
     "ename": "TypeError",
     "evalue": "unsupported operand type(s) for /=: 'list' and 'int'",
     "output_type": "error",
     "traceback": [
      "\u001b[1;31m---------------------------------------------------------------------------\u001b[0m",
      "\u001b[1;31mTypeError\u001b[0m                                 Traceback (most recent call last)",
      "\u001b[1;32mc:\\Users\\Gumo\\Desktop\\Git\\Class\\CIS43_DataTextMining\\secParsing.ipynb Cell 4'\u001b[0m in \u001b[0;36m<module>\u001b[1;34m\u001b[0m\n\u001b[0;32m      <a href='vscode-notebook-cell:/c%3A/Users/Gumo/Desktop/Git/Class/CIS43_DataTextMining/secParsing.ipynb#ch0000013?line=0'>1</a>\u001b[0m list1 \u001b[39m=\u001b[39m [\u001b[39m5\u001b[39m,\u001b[39m6\u001b[39m,\u001b[39m7\u001b[39m]\n\u001b[1;32m----> <a href='vscode-notebook-cell:/c%3A/Users/Gumo/Desktop/Git/Class/CIS43_DataTextMining/secParsing.ipynb#ch0000013?line=1'>2</a>\u001b[0m list1 \u001b[39m/\u001b[39m\u001b[39m=\u001b[39m \u001b[39m100\u001b[39m\n",
      "\u001b[1;31mTypeError\u001b[0m: unsupported operand type(s) for /=: 'list' and 'int'"
     ]
    }
   ],
   "source": [
    "import matplotlib.pyplot as plt\n",
    "import pandas as pd\n",
    "list1 = [5,6,7]\n",
    "percent = list1 / 100\n",
    "pie_chart = pd.Series(list1)\n",
    "pie_chart.plot.pie()\n"
   ]
  },
  {
   "cell_type": "markdown",
   "metadata": {},
   "source": [
    "#### Parse Words"
   ]
  },
  {
   "cell_type": "code",
   "execution_count": 16,
   "metadata": {},
   "outputs": [],
   "source": [
    "'''\n",
    "Link\n",
    "https://github.com/areed1192/sigma_coding_youtube/blob/master/python/python-finance/sec-web-scraping/Web%20Scraping%20SEC%20-%20Parsing%20SEC%20Documents%20-%20New%20Filings.ipynb\n",
    "\n",
    "'''\n",
    "# sec filings are a mess, we need normalize texts\n",
    "# # so we need apply the following function. source provided above\n",
    "# function - finds qualifying matches and decodes them, replace into string\n",
    "def restore_windows_1252_characters(restore_string):\n",
    "    \"\"\"\n",
    "        Replace C1 control characters in the Unicode string s by the\n",
    "        characters at the corresponding code points in Windows-1252,\n",
    "        where possible.\n",
    "    \"\"\"\n",
    "\n",
    "    def to_windows_1252(match):\n",
    "        try:\n",
    "            return bytes([ord(match.group(0))]).decode('windows-1252')\n",
    "        except UnicodeDecodeError:\n",
    "            # No character at the corresponding code point: remove it.\n",
    "            return ''\n",
    "        \n",
    "    return re.sub(r'[\\u0080-\\u0099]', to_windows_1252, restore_string)"
   ]
  },
  {
   "cell_type": "code",
   "execution_count": 19,
   "metadata": {},
   "outputs": [],
   "source": [
    "# define the url to specific html_text file\n",
    "new_html_text = \"https://en.wikipedia.org/wiki/Steve_Jobs\"\n",
    "\n",
    "# grab the response\n",
    "response = requests.get(new_html_text)\n",
    "\n",
    "# pass it through the parser, in this case let's just use lxml because the tags seem to follow xml.\n",
    "soup = BeautifulSoup(response.content, 'lxml')"
   ]
  },
  {
   "cell_type": "code",
   "execution_count": 24,
   "metadata": {},
   "outputs": [],
   "source": [
    "# load local html file\n",
    "\n",
    "path = r\"C:\\Users\\Gumo\\Desktop\\Git\\Class\\CIS43_DataTextMining\\data\\sec-edgar-filings\\MSFT\\10-K\\0001564590-21-039151\\full-submission.txt\"\n",
    "with open(path) as html_file:\n",
    "    soup = BeautifulSoup(html_file, 'lxml')"
   ]
  },
  {
   "cell_type": "code",
   "execution_count": 25,
   "metadata": {},
   "outputs": [],
   "source": [
    "# define a dictionary that will house all filings.\n",
    "master_filings_dict = {}\n",
    "\n",
    "# let's use the accession number as the key. This \n",
    "accession_number = '0001104659-04-027382'\n",
    "\n",
    "# add a new level to our master_filing_dict, this will also be a dictionary.\n",
    "master_filings_dict[accession_number] = {}\n",
    "\n",
    "# this dictionary will contain two keys, the sec header content, and a documents key.\n",
    "master_filings_dict[accession_number]['sec_header_content'] = {}\n",
    "master_filings_dict[accession_number]['filing_documents'] = None"
   ]
  },
  {
   "cell_type": "code",
   "execution_count": 26,
   "metadata": {},
   "outputs": [
    {
     "data": {
      "text/plain": [
       "<sec-header>0001564590-21-039151.hdr.sgml : 20210729\n",
       "<acceptance-datetime>20210729162155\n",
       "ACCESSION NUMBER:\t\t0001564590-21-039151\n",
       "CONFORMED SUBMISSION TYPE:\t10-K\n",
       "PUBLIC DOCUMENT COUNT:\t\t133\n",
       "CONFORMED PERIOD OF REPORT:\t20210630\n",
       "FILED AS OF DATE:\t\t20210729\n",
       "DATE AS OF CHANGE:\t\t20210729\n",
       "\n",
       "FILER:\n",
       "\n",
       "\tCOMPANY DATA:\t\n",
       "\t\tCOMPANY CONFORMED NAME:\t\t\tMICROSOFT CORP\n",
       "\t\tCENTRAL INDEX KEY:\t\t\t0000789019\n",
       "\t\tSTANDARD INDUSTRIAL CLASSIFICATION:\tSERVICES-PREPACKAGED SOFTWARE [7372]\n",
       "\t\tIRS NUMBER:\t\t\t\t911144442\n",
       "\t\tSTATE OF INCORPORATION:\t\t\tWA\n",
       "\t\tFISCAL YEAR END:\t\t\t0630\n",
       "\n",
       "\tFILING VALUES:\n",
       "\t\tFORM TYPE:\t\t10-K\n",
       "\t\tSEC ACT:\t\t1934 Act\n",
       "\t\tSEC FILE NUMBER:\t001-37845\n",
       "\t\tFILM NUMBER:\t\t211127769\n",
       "\n",
       "\tBUSINESS ADDRESS:\t\n",
       "\t\tSTREET 1:\t\tONE MICROSOFT WAY\n",
       "\t\tCITY:\t\t\tREDMOND\n",
       "\t\tSTATE:\t\t\tWA\n",
       "\t\tZIP:\t\t\t98052-6399\n",
       "\t\tBUSINESS PHONE:\t\t425-882-8080\n",
       "\n",
       "\tMAIL ADDRESS:\t\n",
       "\t\tSTREET 1:\t\tONE MICROSOFT WAY\n",
       "\t\tCITY:\t\t\tREDMOND\n",
       "\t\tSTATE:\t\t\tWA\n",
       "\t\tZIP:\t\t\t98052-6399\n",
       "</acceptance-datetime></sec-header>"
      ]
     },
     "execution_count": 26,
     "metadata": {},
     "output_type": "execute_result"
    }
   ],
   "source": [
    "# grab the sec-header tag, so we can store it in the master filing dictionary.\n",
    "sec_header_tag = soup.find('sec-header')\n",
    "\n",
    "# store the tag in the dictionary just as is.\n",
    "master_filings_dict[accession_number]['sec_header_content']['sec_header_code'] = sec_header_tag\n",
    "\n",
    "# display the sec header tag, so you can see how it looks.\n",
    "sec_header_tag"
   ]
  },
  {
   "cell_type": "code",
   "execution_count": 10,
   "metadata": {},
   "outputs": [],
   "source": []
  },
  {
   "cell_type": "code",
   "execution_count": 12,
   "metadata": {},
   "outputs": [],
   "source": []
  },
  {
   "cell_type": "code",
   "execution_count": 13,
   "metadata": {},
   "outputs": [
    {
     "data": {
      "text/plain": [
       "1"
      ]
     },
     "execution_count": 13,
     "metadata": {},
     "output_type": "execute_result"
    }
   ],
   "source": []
  },
  {
   "cell_type": "code",
   "execution_count": null,
   "metadata": {},
   "outputs": [],
   "source": [
    "'''\n",
    "SEC Parsing youtube\n",
    "https://www.youtube.com/watch?v=TxUmufNnIaA&t=2s\n",
    "\n",
    "Github\n",
    "https://github.com/areed1192/sigma_coding_youtube/blob/master/python/python-finance/sec-web-scraping/Web%20Scraping%20SEC%20-%20Parsing%20SEC%20Documents%20-%20New%20Filings.ipynb\n",
    "\n",
    "sec api documentation\n",
    "https://sec-edgar-downloader.readthedocs.io/en/latest/\n",
    "\n",
    "beautifulsoup\n",
    "https://www.youtube.com/watch?v=ng2o98k983k\n",
    "\n",
    "\n",
    "\n",
    "\n",
    "'''"
   ]
  }
 ],
 "metadata": {
  "interpreter": {
   "hash": "a078425411422aa865ededce911f5aebbd4cde69bb2ea2ab5956ec6a35024297"
  },
  "kernelspec": {
   "display_name": "desktop_env",
   "language": "python",
   "name": "desktop_env"
  },
  "language_info": {
   "codemirror_mode": {
    "name": "ipython",
    "version": 3
   },
   "file_extension": ".py",
   "mimetype": "text/x-python",
   "name": "python",
   "nbconvert_exporter": "python",
   "pygments_lexer": "ipython3",
   "version": "3.9.6"
  },
  "orig_nbformat": 4
 },
 "nbformat": 4,
 "nbformat_minor": 2
}
