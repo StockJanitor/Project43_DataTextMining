{
  "nbformat": 4,
  "nbformat_minor": 0,
  "metadata": {
    "colab": {
      "name": "textMining.ipynb",
      "provenance": [],
      "collapsed_sections": [
        "ABfcyIvllWpC",
        "bJ7pU5CkphNK"
      ],
      "toc_visible": true
    },
    "kernelspec": {
      "name": "python3",
      "display_name": "Python 3"
    },
    "language_info": {
      "name": "python"
    }
  },
  "cells": [
    {
      "cell_type": "markdown",
      "source": [
        "#### Data/Text Mining Project\n"
      ],
      "metadata": {
        "id": "ABfcyIvllWpC"
      }
    },
    {
      "cell_type": "markdown",
      "source": [
        "Course: CISD 43<br>\n",
        "Professor: Sohair Zaki<br>\n",
        "Student: Fiona Xu and Jack Chen<br>\n",
        "<br>\n",
        "Purpose:<br>\n",
        "- hello world\n",
        "<br>\n",
        "\n",
        "Details:<br>\n",
        "1. Load libraries, data cleaning<br>\n",
        "2. Exploratory Data Analysis (EDA)<br>\n",
        "3. Deep Learning<br>\n",
        "4. Conclusion<br>\n",
        "5. References<br>"
      ],
      "metadata": {
        "id": "-yIYe1L4pcKv"
      }
    },
    {
      "cell_type": "markdown",
      "source": [
        "#### Load/Cleaning Data"
      ],
      "metadata": {
        "id": "bJ7pU5CkphNK"
      }
    },
    {
      "cell_type": "code",
      "source": [
        "# import our libraries\n",
        "import numpy as np\n",
        "import pandas as pd\n",
        "import matplotlib.pyplot as plt\n",
        "\n",
        "import requests\n",
        "from bs4 import BeautifulSoup"
      ],
      "metadata": {
        "id": "a7KwPgpwYnoq"
      },
      "execution_count": null,
      "outputs": []
    },
    {
      "cell_type": "markdown",
      "source": [
        "#### Exploratory Data Analysis (EDA)"
      ],
      "metadata": {
        "id": "H6cB12pZpLGw"
      }
    },
    {
      "cell_type": "markdown",
      "source": [
        "#### Deep Learning"
      ],
      "metadata": {
        "id": "_cR2uuTjpQzv"
      }
    },
    {
      "cell_type": "markdown",
      "source": [
        "#### Conclusion"
      ],
      "metadata": {
        "id": "P0klcvvXpTiu"
      }
    },
    {
      "cell_type": "markdown",
      "source": [
        "\n",
        "#### References\n"
      ],
      "metadata": {
        "id": "0m1oT2vHonqA"
      }
    },
    {
      "cell_type": "markdown",
      "source": [
        "----------\n",
        "CIS43 Project Link<br>\n",
        "https://colab.research.google.com/drive/1OS0i9lEitkL7PTE7TpLuWVoqkjS0BPYC\n",
        "<br>\n",
        "\n",
        "Load local file onto colab<br>\n",
        "https://www.youtube.com/watch?v=6HFlwqK3oeo\n",
        "<br>\n",
        "<br>\n",
        "\n",
        "----------\n",
        "Inflation Data<br>\n",
        "https://www.usinflationcalculator.com/inflation/current-inflation-rates/#:~:text=The%20annual%20inflation%20rate%20for,at%208%3A30%20a.m.%20ET.\n",
        "<br>\n",
        "<br>\n",
        "\n",
        "CO2 Emissions<br>\n",
        "https://ourworldindata.org/co2-emissions\n",
        "<br>\n",
        "<br>\n",
        "Kaggle Data Temperature Change<br>\n",
        "https://www.kaggle.com/datasets/sevgisarac/temperature-change?select=Environment_Temperature_change_E_All_Data_NOFLAG.csv\n",
        "<br>\n",
        "<br>"
      ],
      "metadata": {
        "id": "86ExncCxpHhv"
      }
    },
    {
      "cell_type": "code",
      "source": [
        ""
      ],
      "metadata": {
        "id": "V8n5zrw6qtz6"
      },
      "execution_count": null,
      "outputs": []
    }
  ]
}