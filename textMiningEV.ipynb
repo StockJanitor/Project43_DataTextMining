{
  "cells": [
    {
      "cell_type": "markdown",
      "metadata": {
        "id": "ABfcyIvllWpC"
      },
      "source": [
        "#### Data/Text Mining Project\n"
      ]
    },
    {
      "cell_type": "markdown",
      "metadata": {
        "id": "-yIYe1L4pcKv"
      },
      "source": [
        "Course: CISD 43<br>\n",
        "Professor: Sohair Zaki<br>\n",
        "Student: Fiona Xu and Jack Chen<br>\n",
        "<br>\n",
        "Purpose:<br>\n",
        "- hello world\n",
        "<br>\n",
        "\n",
        "Details:<br>\n",
        "1. Load libraries, data cleaning<br>\n",
        "2. Exploratory Data Analysis (EDA)<br>\n",
        "3. Deep Learning<br>\n",
        "4. Conclusion<br>\n",
        "5. References<br>"
      ]
    },
    {
      "cell_type": "markdown",
      "metadata": {
        "id": "bJ7pU5CkphNK"
      },
      "source": [
        "#### Load/Cleaning Data"
      ]
    },
    {
      "cell_type": "code",
      "execution_count": 15,
      "metadata": {
        "id": "a7KwPgpwYnoq"
      },
      "outputs": [],
      "source": [
        "# import our libraries\n",
        "import numpy as np\n",
        "import pandas as pd\n",
        "import matplotlib.pyplot as plt\n",
        "\n",
        "\n",
        "import requests\n",
        "from bs4 import BeautifulSoup"
      ]
    },
    {
      "cell_type": "code",
      "execution_count": 74,
      "metadata": {},
      "outputs": [],
      "source": [
        "# Alpha Vantage API - stock data\n",
        "from alpha_vantage.timeseries import TimeSeries\n",
        "from alpha_vantage.fundamentaldata import FundamentalData\n",
        "from alpha_vantage.cryptocurrencies import CryptoCurrencies\n",
        "from alpha_vantage.techindicators import TechIndicators\n",
        "# Variable - store Alpha Vantage API key\n",
        "path =  r'C:\\Users\\Gumo\\Desktop\\Git\\Notebook\\keys\\alphaVantage.txt'\n",
        "with open(path, mode='r') as w:\n",
        "    key = (w.readline())"
      ]
    },
    {
      "cell_type": "code",
      "execution_count": null,
      "metadata": {},
      "outputs": [],
      "source": []
    },
    {
      "cell_type": "code",
      "execution_count": 100,
      "metadata": {},
      "outputs": [],
      "source": [
        "# URL Method\n",
        "# def alpha(function, symbol):\n",
        "#     url = 'https://www.alphavantage.co/query?function='+function+'&symbol='+symbol+'&apikey='+key\n",
        "#     response = requests.get(url)\n",
        "\n",
        "# Function AlphaVantage\n",
        "def alpha(symbol, function, period=None, typ = None, tim=None):\n",
        "    \n",
        "    # Funciton - TimeSeries\n",
        "    if function == 't':\n",
        "        # Instance - TimeSeries Instance\n",
        "        ts = TimeSeries(key = key, output_format='pandas')\n",
        "        if period == 'd':\n",
        "            data = ts.get_daily_adjusted(symbol, outputsize=outputsize)[0]\n",
        "        elif period == 'w':\n",
        "            data = ts.get_weekly_adjusted(symbol)[0]\n",
        "        elif period == 'm':\n",
        "            data = ts.get_monthly_adjusted(symbol)[0]\n",
        "\n",
        "    # Funciton - FundamentalData\n",
        "    elif function == 'f':\n",
        "        # Instance - FundamentalData Instance\n",
        "        fd = FundamentalData(key, output_format='pandas')\n",
        "        if period == 'q':\n",
        "            if typ == 'i':\n",
        "                data = fd.get_income_statement_quarterly(symbol)[0]\n",
        "                data.index = data.iloc[:,0]\n",
        "                data=data.iloc[:,2:]\n",
        "            elif typ == 'b':\n",
        "                data = fd.get_balance_sheet_quarterly(symbol)[0]\n",
        "                data.index = data.iloc[:,0]\n",
        "                data=data.iloc[:,2:]\n",
        "            elif typ=='c':\n",
        "                data = fd.get_cash_flow_quarterly(symbol)[0]\n",
        "                data.index = data.iloc[:,0]\n",
        "                data=data.iloc[:,2:]\n",
        "        elif period =='a':\n",
        "            if typ == 'i':\n",
        "                data = fd.get_income_statement_annual(symbol)[0]\n",
        "                data.index = data.iloc[:,0]\n",
        "                data=data.iloc[:,2:]\n",
        "            elif typ == 'b':\n",
        "                data = fd.get_balance_sheet_annual(symbol)[0]\n",
        "                data.index = data.iloc[:,0]\n",
        "                data=data.iloc[:,2:]\n",
        "            elif typ=='c':\n",
        "                data = fd.get_cash_flow_annual(symbol)[0]\n",
        "                data.index = data.iloc[:,0]\n",
        "                data=data.iloc[:,2:]\n",
        "    \n",
        "    # Funciton - TechnicalIndicator            \n",
        "    elif function =='ti':\n",
        "        ti = TechIndicators(key,output_format='pandas')\n",
        "\n",
        "        # reassign period into TI format\n",
        "        if period == 'm':\n",
        "            period = 'monthly'\n",
        "        elif period =='w':\n",
        "            period = 'weekly'\n",
        "        elif period == 'd':\n",
        "            period ='daily'\n",
        "\n",
        "        if typ == 'rsi':\n",
        "            data=ti.get_rsi(symbol,interval=period,time_period=tim,series_type='close')[0]\n",
        "        elif typ =='so':\n",
        "            data = ti.get_stoch(symbol,interval=period)[0]\n",
        "            \n",
        "    # Funciton - CC\n",
        "    elif function == 'c':\n",
        "        # Instance - Crypto\n",
        "        cc = CryptoCurrencies(key, output_format='pandas')\n",
        "        pass\n",
        "    return data\n"
      ]
    },
    {
      "cell_type": "code",
      "execution_count": 103,
      "metadata": {},
      "outputs": [
        {
          "data": {
            "text/html": [
              "<div>\n",
              "<style scoped>\n",
              "    .dataframe tbody tr th:only-of-type {\n",
              "        vertical-align: middle;\n",
              "    }\n",
              "\n",
              "    .dataframe tbody tr th {\n",
              "        vertical-align: top;\n",
              "    }\n",
              "\n",
              "    .dataframe thead th {\n",
              "        text-align: right;\n",
              "    }\n",
              "</style>\n",
              "<table border=\"1\" class=\"dataframe\">\n",
              "  <thead>\n",
              "    <tr style=\"text-align: right;\">\n",
              "      <th></th>\n",
              "      <th>SlowD</th>\n",
              "      <th>SlowK</th>\n",
              "    </tr>\n",
              "    <tr>\n",
              "      <th>date</th>\n",
              "      <th></th>\n",
              "      <th></th>\n",
              "    </tr>\n",
              "  </thead>\n",
              "  <tbody>\n",
              "    <tr>\n",
              "      <th>2022-05-24</th>\n",
              "      <td>86.0405</td>\n",
              "      <td>83.7861</td>\n",
              "    </tr>\n",
              "    <tr>\n",
              "      <th>2022-04-29</th>\n",
              "      <td>89.2349</td>\n",
              "      <td>84.6539</td>\n",
              "    </tr>\n",
              "    <tr>\n",
              "      <th>2022-03-31</th>\n",
              "      <td>89.9650</td>\n",
              "      <td>89.6815</td>\n",
              "    </tr>\n",
              "    <tr>\n",
              "      <th>2022-02-28</th>\n",
              "      <td>90.0303</td>\n",
              "      <td>93.3693</td>\n",
              "    </tr>\n",
              "    <tr>\n",
              "      <th>2022-01-31</th>\n",
              "      <td>84.0707</td>\n",
              "      <td>86.8440</td>\n",
              "    </tr>\n",
              "  </tbody>\n",
              "</table>\n",
              "</div>"
            ],
            "text/plain": [
              "              SlowD    SlowK\n",
              "date                        \n",
              "2022-05-24  86.0405  83.7861\n",
              "2022-04-29  89.2349  84.6539\n",
              "2022-03-31  89.9650  89.6815\n",
              "2022-02-28  90.0303  93.3693\n",
              "2022-01-31  84.0707  86.8440"
            ]
          },
          "execution_count": 103,
          "metadata": {},
          "output_type": "execute_result"
        }
      ],
      "source": [
        "# Variable Size\n",
        "outputsize = 'compact'\n",
        "\n",
        "# Variable Stock\n",
        "symbol = 'cvx'\n",
        "\n",
        "# Variable Function - t, f, c, ti (timeseries, financialdata, crypto, technical indicator)\n",
        "function = 'ti'\n",
        "\n",
        "# Variable Period\n",
        "# TimeSeries: d,w,m,i (daily, weekly, monthly, interval(mins))\n",
        "# Fundamental: q,a (quarterly,annually)\n",
        "# Technical: d,w,m, (interval(mins))\n",
        "period = 'm'\n",
        "\n",
        "# Varible - Type\n",
        "# Fundamental: i,b,c\n",
        "# Technical: so,rsi\n",
        "typ ='so'\n",
        "\n",
        "# Varible - Time\n",
        "tim = 60\n",
        "\n",
        "info = alpha(symbol,function,period=period,typ = typ,tim=tim)\n",
        "info.head()"
      ]
    },
    {
      "cell_type": "code",
      "execution_count": 105,
      "metadata": {},
      "outputs": [],
      "source": [
        "# save to local stock data\n",
        "# info.to_csv('data/'+symbol.upper()+'stockPrice.csv')\n",
        "\n",
        "# save to local stock data\n",
        "# info.to_csv('data/'+symbol.upper()+'technicalSO.csv')\n",
        "\n",
        "# save to local stock data\n",
        "# info.to_csv('data/'+symbol.upper()+'technical.csv')"
      ]
    },
    {
      "cell_type": "markdown",
      "metadata": {
        "id": "H6cB12pZpLGw"
      },
      "source": [
        "#### Exploratory Data Analysis (EDA)"
      ]
    },
    {
      "cell_type": "markdown",
      "metadata": {
        "id": "_cR2uuTjpQzv"
      },
      "source": [
        "#### Deep Learning"
      ]
    },
    {
      "cell_type": "markdown",
      "metadata": {
        "id": "P0klcvvXpTiu"
      },
      "source": [
        "#### Conclusion"
      ]
    },
    {
      "cell_type": "markdown",
      "metadata": {
        "id": "0m1oT2vHonqA"
      },
      "source": [
        "\n",
        "#### References\n"
      ]
    },
    {
      "cell_type": "markdown",
      "metadata": {
        "id": "86ExncCxpHhv"
      },
      "source": [
        "----------\n",
        "CIS43 Project Link<br>\n",
        "https://colab.research.google.com/drive/1OS0i9lEitkL7PTE7TpLuWVoqkjS0BPYC\n",
        "<br>\n",
        "\n",
        "Load local file onto colab<br>\n",
        "https://www.youtube.com/watch?v=6HFlwqK3oeo\n",
        "<br>\n",
        "<br>\n",
        "\n",
        "----------\n",
        "Inflation Data<br>\n",
        "https://www.usinflationcalculator.com/inflation/current-inflation-rates/#:~:text=The%20annual%20inflation%20rate%20for,at%208%3A30%20a.m.%20ET.\n",
        "<br>\n",
        "<br>\n",
        "Gas Prices<br>\n",
        "https://www.kaggle.com/datasets/mruanova/us-gasoline-and-diesel-retail-prices-19952021\n",
        "<br>\n",
        "<br>\n"
      ]
    },
    {
      "cell_type": "code",
      "execution_count": null,
      "metadata": {
        "id": "V8n5zrw6qtz6"
      },
      "outputs": [],
      "source": [
        "\n"
      ]
    }
  ],
  "metadata": {
    "colab": {
      "collapsed_sections": [
        "ABfcyIvllWpC",
        "bJ7pU5CkphNK"
      ],
      "name": "textMining.ipynb",
      "provenance": [],
      "toc_visible": true
    },
    "interpreter": {
      "hash": "b4dc6631ffef5a733ac58430eb0e8cf8f73f165587c4c3dfb32dbf0eaaadea6b"
    },
    "kernelspec": {
      "display_name": "Python 3.10.2 ('desktop_env')",
      "language": "python",
      "name": "python3"
    },
    "language_info": {
      "codemirror_mode": {
        "name": "ipython",
        "version": 3
      },
      "file_extension": ".py",
      "mimetype": "text/x-python",
      "name": "python",
      "nbconvert_exporter": "python",
      "pygments_lexer": "ipython3",
      "version": "3.10.2"
    }
  },
  "nbformat": 4,
  "nbformat_minor": 0
}
