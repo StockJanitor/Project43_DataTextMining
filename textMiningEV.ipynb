{
  "cells": [
    {
      "cell_type": "markdown",
      "metadata": {
        "id": "ABfcyIvllWpC"
      },
      "source": [
        "## Data/Text Mining Project\n"
      ]
    },
    {
      "cell_type": "markdown",
      "metadata": {
        "id": "-yIYe1L4pcKv"
      },
      "source": [
        "Course: CISD 43<br>\n",
        "Professor: Sohair Zaki<br>\n",
        "Student: Fiona Xu and Jack Chen<br>\n",
        "<br>\n",
        "Purpose:<br>\n",
        "- hello world\n",
        "<br>\n",
        "\n",
        "Details:<br>\n",
        "1. Load libraries, data cleaning<br>\n",
        "2. Exploratory Data Analysis (EDA)<br>\n",
        "3. Deep Learning<br>\n",
        "4. Conclusion<br>\n",
        "5. References<br>"
      ]
    },
    {
      "cell_type": "markdown",
      "metadata": {
        "id": "bJ7pU5CkphNK"
      },
      "source": [
        "## Libraries, Functions, Load/Cleaning Data"
      ]
    },
    {
      "cell_type": "code",
      "execution_count": 58,
      "metadata": {
        "id": "a7KwPgpwYnoq"
      },
      "outputs": [],
      "source": [
        "# Parsing\n",
        "import requests\n",
        "from bs4 import BeautifulSoup\n",
        "# Alpha Vantage API - stock data\n",
        "from alpha_vantage.timeseries import TimeSeries\n",
        "from alpha_vantage.fundamentaldata import FundamentalData\n",
        "from alpha_vantage.cryptocurrencies import CryptoCurrencies\n",
        "from alpha_vantage.techindicators import TechIndicators\n",
        "\n",
        "# filter warnings\n",
        "import warnings\n",
        "warnings.filterwarnings(\"ignore\")\n",
        "\n",
        "# Data\n",
        "import numpy as np\n",
        "import pandas as pd\n",
        "\n",
        "# Visualization\n",
        "import matplotlib.pyplot as plt\n",
        "import seaborn as sns\n",
        "%matplotlib inline \n",
        "\n",
        "# Preprocessing\n",
        "from sklearn.preprocessing import StandardScalar\n",
        "from sklearn.model_selection import train_test_split\n",
        "\n",
        "# Deep Learning\n",
        "import tensorflow as tf\n",
        "\n",
        "# Analyze Results\n",
        "from sklearn.metrics import confusion_matrix, classification_report"
      ]
    },
    {
      "cell_type": "markdown",
      "metadata": {
        "id": "fkuylT1LjYpq"
      },
      "source": [
        "### AlphaVantage API"
      ]
    },
    {
      "cell_type": "code",
      "execution_count": null,
      "metadata": {
        "id": "rJegGRSMspYA"
      },
      "outputs": [],
      "source": [
        "# Variable - store Alpha Vantage API key\n",
        "# path =  r'C:\\Users\\Gumo\\Desktop\\Git\\Notebook\\keys\\alphaVantage.txt'\n",
        "# with open(path, mode='r') as w:\n",
        "#     key = (w.readline())"
      ]
    },
    {
      "cell_type": "code",
      "execution_count": null,
      "metadata": {
        "id": "AcuRah1U2mC7"
      },
      "outputs": [],
      "source": [
        "# URL Method\n",
        "# def alpha(function, symbol):\n",
        "#     url = 'https://www.alphavantage.co/query?function='+function+'&symbol='+symbol+'&apikey='+key\n",
        "#     response = requests.get(url)\n",
        "\n",
        "# Function AlphaVantage\n",
        "def alpha(symbol, function, period=None, typ = None, tim=None):\n",
        "    \n",
        "    # Funciton - TimeSeries\n",
        "    if function == 't':\n",
        "        # Instance - TimeSeries Instance\n",
        "        ts = TimeSeries(key = key, output_format='pandas')\n",
        "        if period == 'd':\n",
        "            data = ts.get_daily_adjusted(symbol, outputsize=outputsize)[0]\n",
        "        elif period == 'w':\n",
        "            data = ts.get_weekly_adjusted(symbol)[0]\n",
        "        elif period == 'm':\n",
        "            data = ts.get_monthly_adjusted(symbol)[0]\n",
        "\n",
        "    # Funciton - FundamentalData\n",
        "    elif function == 'f':\n",
        "        # Instance - FundamentalData Instance\n",
        "        fd = FundamentalData(key, output_format='pandas')\n",
        "        if period == 'q':\n",
        "            if typ == 'i':\n",
        "                data = fd.get_income_statement_quarterly(symbol)[0]\n",
        "                data.index = data.iloc[:,0]\n",
        "                data=data.iloc[:,2:]\n",
        "            elif typ == 'b':\n",
        "                data = fd.get_balance_sheet_quarterly(symbol)[0]\n",
        "                data.index = data.iloc[:,0]\n",
        "                data=data.iloc[:,2:]\n",
        "            elif typ=='c':\n",
        "                data = fd.get_cash_flow_quarterly(symbol)[0]\n",
        "                data.index = data.iloc[:,0]\n",
        "                data=data.iloc[:,2:]\n",
        "        elif period =='a':\n",
        "            if typ == 'i':\n",
        "                data = fd.get_income_statement_annual(symbol)[0]\n",
        "                data.index = data.iloc[:,0]\n",
        "                data=data.iloc[:,2:]\n",
        "            elif typ == 'b':\n",
        "                data = fd.get_balance_sheet_annual(symbol)[0]\n",
        "                data.index = data.iloc[:,0]\n",
        "                data=data.iloc[:,2:]\n",
        "            elif typ=='c':\n",
        "                data = fd.get_cash_flow_annual(symbol)[0]\n",
        "                data.index = data.iloc[:,0]\n",
        "                data=data.iloc[:,2:]\n",
        "    \n",
        "    # Funciton - TechnicalIndicator            \n",
        "    elif function =='ti':\n",
        "        ti = TechIndicators(key,output_format='pandas')\n",
        "\n",
        "        # reassign period into TI format\n",
        "        if period == 'm':\n",
        "            period = 'monthly'\n",
        "        elif period =='w':\n",
        "            period = 'weekly'\n",
        "        elif period == 'd':\n",
        "            period ='daily'\n",
        "\n",
        "        if typ == 'rsi':\n",
        "            data=ti.get_rsi(symbol,interval=period,time_period=tim,series_type='close')[0]\n",
        "        elif typ =='so':\n",
        "            data = ti.get_stoch(symbol,interval=period)[0]\n",
        "            \n",
        "    # Funciton - CC\n",
        "    elif function == 'c':\n",
        "        # Instance - Crypto\n",
        "        cc = CryptoCurrencies(key, output_format='pandas')\n",
        "        pass\n",
        "    return data"
      ]
    },
    {
      "cell_type": "code",
      "execution_count": null,
      "metadata": {
        "id": "IPZy_EvN2u0K"
      },
      "outputs": [],
      "source": [
        "# Variable Size\n",
        "outputsize = 'compact'\n",
        "\n",
        "# Variable Stock\n",
        "symbol = 'cvx'\n",
        "\n",
        "# Variable Function - t, f, c, ti (timeseries, financialdata, crypto, technical indicator)\n",
        "function = 'ti'\n",
        "\n",
        "# Variable Period\n",
        "# TimeSeries: d,w,m,i (daily, weekly, monthly, interval(mins))\n",
        "# Fundamental: q,a (quarterly,annually)\n",
        "# Technical: d,w,m, (interval(mins))\n",
        "period = 'm'\n",
        "\n",
        "# Varible - Type\n",
        "# Fundamental: i,b,c\n",
        "# Technical: so,rsi\n",
        "typ ='so'\n",
        "\n",
        "# Varible - Time\n",
        "tim = 60\n",
        "\n",
        "info = alpha(symbol,function,period=period,typ = typ,tim=tim)\n",
        "info.head()"
      ]
    },
    {
      "cell_type": "code",
      "execution_count": null,
      "metadata": {
        "id": "sQNa2GEo2zfA"
      },
      "outputs": [],
      "source": [
        "# save to local stock data\n",
        "# info.to_csv('data/'+symbol.upper()+'stockPrice.csv')"
      ]
    },
    {
      "cell_type": "markdown",
      "metadata": {
        "id": "mh-fd_ENjchG"
      },
      "source": [
        "### Functions"
      ]
    },
    {
      "cell_type": "code",
      "execution_count": 91,
      "metadata": {},
      "outputs": [],
      "source": [
        "# Function to clean balance sheet df\n",
        "def convMonth(x):\n",
        "    if x == 'MAR':\n",
        "        x = 3\n",
        "    elif x == 'DEC':\n",
        "        x = 12\n",
        "    elif x =='JUN':\n",
        "        x = 6\n",
        "    elif x == 'SEP':\n",
        "        x = 9\n",
        "    return x "
      ]
    },
    {
      "cell_type": "markdown",
      "metadata": {
        "id": "9SAS7gi5jj9Y"
      },
      "source": [
        "### Load/Clean Data"
      ]
    },
    {
      "cell_type": "code",
      "execution_count": 140,
      "metadata": {
        "colab": {
          "base_uri": "https://localhost:8080/",
          "height": 438
        },
        "id": "dMKdy3GMjjjk",
        "outputId": "0900ae65-5eff-4840-c411-6d545fd4b81b"
      },
      "outputs": [],
      "source": [
        "# load dfs - data will be 01/2000 to 03/2022, 22 years and 3 month is 267 month, \n",
        "df_bs = pd.read_excel('data/df_cvx_bs_quarter.xlsx', engine='openpyxl')\n",
        "df_is = pd.read_excel('data/df_cvx_is_quarter.xlsx', engine='openpyxl')\n",
        "df_stock = pd.read_csv('data/CVXstockPrice.csv')\n",
        "df_inflation = pd.read_csv('data/clean_inflation_rate.csv')\n",
        "df_gas = pd.read_excel('data/gasPrices.xlsx', engine='openpyxl')\n"
      ]
    },
    {
      "cell_type": "code",
      "execution_count": 116,
      "metadata": {},
      "outputs": [
        {
          "data": {
            "text/html": [
              "<div>\n",
              "<style scoped>\n",
              "    .dataframe tbody tr th:only-of-type {\n",
              "        vertical-align: middle;\n",
              "    }\n",
              "\n",
              "    .dataframe tbody tr th {\n",
              "        vertical-align: top;\n",
              "    }\n",
              "\n",
              "    .dataframe thead th {\n",
              "        text-align: right;\n",
              "    }\n",
              "</style>\n",
              "<table border=\"1\" class=\"dataframe\">\n",
              "  <thead>\n",
              "    <tr style=\"text-align: right;\">\n",
              "      <th></th>\n",
              "      <th>5. adjusted close</th>\n",
              "      <th>6. volume</th>\n",
              "      <th>year</th>\n",
              "      <th>month</th>\n",
              "    </tr>\n",
              "  </thead>\n",
              "  <tbody>\n",
              "    <tr>\n",
              "      <th>266</th>\n",
              "      <td>18.2953</td>\n",
              "      <td>37687500.0</td>\n",
              "      <td>2000</td>\n",
              "      <td>1</td>\n",
              "    </tr>\n",
              "    <tr>\n",
              "      <th>265</th>\n",
              "      <td>16.4760</td>\n",
              "      <td>42961800.0</td>\n",
              "      <td>2000</td>\n",
              "      <td>2</td>\n",
              "    </tr>\n",
              "    <tr>\n",
              "      <th>264</th>\n",
              "      <td>20.3915</td>\n",
              "      <td>51176100.0</td>\n",
              "      <td>2000</td>\n",
              "      <td>3</td>\n",
              "    </tr>\n",
              "    <tr>\n",
              "      <th>263</th>\n",
              "      <td>18.7790</td>\n",
              "      <td>31502600.0</td>\n",
              "      <td>2000</td>\n",
              "      <td>4</td>\n",
              "    </tr>\n",
              "    <tr>\n",
              "      <th>262</th>\n",
              "      <td>20.5234</td>\n",
              "      <td>30692800.0</td>\n",
              "      <td>2000</td>\n",
              "      <td>5</td>\n",
              "    </tr>\n",
              "    <tr>\n",
              "      <th>...</th>\n",
              "      <td>...</td>\n",
              "      <td>...</td>\n",
              "      <td>...</td>\n",
              "      <td>...</td>\n",
              "    </tr>\n",
              "    <tr>\n",
              "      <th>4</th>\n",
              "      <td>110.7529</td>\n",
              "      <td>224686287.0</td>\n",
              "      <td>2021</td>\n",
              "      <td>11</td>\n",
              "    </tr>\n",
              "    <tr>\n",
              "      <th>3</th>\n",
              "      <td>115.1489</td>\n",
              "      <td>221128758.0</td>\n",
              "      <td>2021</td>\n",
              "      <td>12</td>\n",
              "    </tr>\n",
              "    <tr>\n",
              "      <th>2</th>\n",
              "      <td>128.8667</td>\n",
              "      <td>300049707.0</td>\n",
              "      <td>2022</td>\n",
              "      <td>1</td>\n",
              "    </tr>\n",
              "    <tr>\n",
              "      <th>1</th>\n",
              "      <td>142.7935</td>\n",
              "      <td>282783725.0</td>\n",
              "      <td>2022</td>\n",
              "      <td>2</td>\n",
              "    </tr>\n",
              "    <tr>\n",
              "      <th>0</th>\n",
              "      <td>161.4657</td>\n",
              "      <td>526661468.0</td>\n",
              "      <td>2022</td>\n",
              "      <td>3</td>\n",
              "    </tr>\n",
              "  </tbody>\n",
              "</table>\n",
              "<p>267 rows × 4 columns</p>\n",
              "</div>"
            ],
            "text/plain": [
              "     5. adjusted close    6. volume  year  month\n",
              "266            18.2953   37687500.0  2000      1\n",
              "265            16.4760   42961800.0  2000      2\n",
              "264            20.3915   51176100.0  2000      3\n",
              "263            18.7790   31502600.0  2000      4\n",
              "262            20.5234   30692800.0  2000      5\n",
              "..                 ...          ...   ...    ...\n",
              "4             110.7529  224686287.0  2021     11\n",
              "3             115.1489  221128758.0  2021     12\n",
              "2             128.8667  300049707.0  2022      1\n",
              "1             142.7935  282783725.0  2022      2\n",
              "0             161.4657  526661468.0  2022      3\n",
              "\n",
              "[267 rows x 4 columns]"
            ]
          },
          "execution_count": 116,
          "metadata": {},
          "output_type": "execute_result"
        }
      ],
      "source": [
        "# we just need adjusted close , volumn\n",
        "dfstock1 = df_stock.iloc[:,[0,5,6]]\n",
        "\n",
        "# create year column and month column\n",
        "dfstock1['year'] = df_stock.date.apply(lambda x : x.split('-')[0])\n",
        "dfstock1['month'] = df_stock.date.apply(lambda x : x.split('-')[1])\n",
        "dfstock1.tail()\n",
        "\n",
        "# drop useless columns\n",
        "dfstock2 = dfstock1.iloc[2:-1,1:]\n",
        "# reset index\n",
        "dfstock3 = dfstock2.reset_index(drop=True)\n",
        "\n",
        "# convert month into int\n",
        "dfstock3.month = dfstock3.month.apply(lambda x: int(x))\n",
        "\n",
        "#assign to finaldf\n",
        "dfstockf = dfstock3.sort_values(by=['year','month'])\n",
        "dfstockf"
      ]
    },
    {
      "cell_type": "markdown",
      "metadata": {},
      "source": [
        "#### bs df"
      ]
    },
    {
      "cell_type": "code",
      "execution_count": 33,
      "metadata": {
        "id": "C80M54ZPkIfw"
      },
      "outputs": [],
      "source": [
        "# df_BalanceSheet - Clean Balance Sheet\n",
        "# transpose df\n",
        "df_bs1 = df_bs.T\n",
        "\n",
        "# assign column names\n",
        "df_bs1.columns = df_bs1.iloc[0,:]\n",
        "\n",
        "# reset index and drop first row\n",
        "df_bs2 = df_bs1.reset_index().iloc[1:,:]\n",
        "df_bs2.head(3)"
      ]
    },
    {
      "cell_type": "code",
      "execution_count": 37,
      "metadata": {
        "id": "pJ_GPJNukINS"
      },
      "outputs": [
        {
          "data": {
            "text/plain": [
              "Index(['index', 'Cash & Short-Term Investments', 'Cash Only',\n",
              "       'Total Short Term Investments', 'Short-Term Receivables',\n",
              "       'Accounts Receivables, Net', 'Accounts Receivables, Gross',\n",
              "       'Bad Debt/Doubtful Accounts', 'Other Receivables', 'Inventories',\n",
              "       'Finished Goods', 'Raw Materials', 'Other Current Assets',\n",
              "       'Miscellaneous Current Assets', 'Total Current Assets',\n",
              "       'Net Property, Plant & Equipment',\n",
              "       'Property, Plant & Equipment - Gross',\n",
              "       'Operating Lease Right-of-Use Assets', 'Accumulated Depreciation',\n",
              "       'Total Long-Term Investments ', 'LT Investment - Affiliate Companies',\n",
              "       'Other Long-Term Investments', 'Long-Term Note Receivable',\n",
              "       'Intangible Assets', 'Goodwill', 'Deferred Tax Assets', 'Other Assets',\n",
              "       'Tangible Other Assets', 'Total Assets',\n",
              "       'Liabilities & Shareholders' Equity', 'ST Debt & Curr. Portion LT Debt',\n",
              "       'Accounts Payable', 'Income Tax Payable', 'Other Current Liabilities',\n",
              "       'Miscellaneous Current Liabilities', 'Total Current Liabilities',\n",
              "       'Long-Term Debt', 'Long-Term Debt excl Lease Obligations',\n",
              "       'Capital and Operating Lease Obligations',\n",
              "       'Provision for Risks & Charges', 'Deferred Tax Liabilities',\n",
              "       'Other Liabilities', 'Other Liabilities (excl. Deferred Income)',\n",
              "       'Total Liabilities', 'Common Equity', 'Common Stock Par/Carry Value',\n",
              "       'Additional Paid-In Capital/Capital Surplus', 'Retained Earnings',\n",
              "       'Cumulative Translation Adjustment/Unrealized For. Exch. Gain',\n",
              "       'Unrealized Gain/Loss Marketable Securities',\n",
              "       'Other Appropriated Reserves', 'Treasury Stock',\n",
              "       'Repurchased Stock Value', 'Total Shareholders' Equity',\n",
              "       'Accumulated Minority Interest', 'Total Equity',\n",
              "       'Total Liabilities & Shareholders' Equity', 'Per Share',\n",
              "       'Book Value per Share', 'Tangible Book Value per Share'],\n",
              "      dtype='object', name='Unnamed: 0')"
            ]
          },
          "execution_count": 37,
          "metadata": {},
          "output_type": "execute_result"
        }
      ],
      "source": [
        "# see the columns\n",
        "df_bs2.columns"
      ]
    },
    {
      "cell_type": "code",
      "execution_count": 100,
      "metadata": {},
      "outputs": [
        {
          "data": {
            "text/plain": [
              "(89, 3)"
            ]
          },
          "execution_count": 100,
          "metadata": {},
          "output_type": "execute_result"
        }
      ],
      "source": [
        "# select the needed columns\n",
        "df_bs3 = df_bs2[['index','Total Assets', 'Total Equity']].iloc[:89,:]\n",
        "df_bs3.shape"
      ]
    },
    {
      "cell_type": "code",
      "execution_count": 101,
      "metadata": {},
      "outputs": [
        {
          "data": {
            "text/plain": [
              "(267, 3)"
            ]
          },
          "execution_count": 101,
          "metadata": {},
          "output_type": "execute_result"
        }
      ],
      "source": [
        "# since data is quarterly, we will append the data until we have 267 month\n",
        "dfbs4 = df_bs3\n",
        "dfbs5 = dfbs4.append(df_bs3)\n",
        "dfbs6 = dfbs5.append(df_bs3)\n",
        "dfbs6.shape"
      ]
    },
    {
      "cell_type": "code",
      "execution_count": 102,
      "metadata": {},
      "outputs": [
        {
          "data": {
            "text/html": [
              "<div>\n",
              "<style scoped>\n",
              "    .dataframe tbody tr th:only-of-type {\n",
              "        vertical-align: middle;\n",
              "    }\n",
              "\n",
              "    .dataframe tbody tr th {\n",
              "        vertical-align: top;\n",
              "    }\n",
              "\n",
              "    .dataframe thead th {\n",
              "        text-align: right;\n",
              "    }\n",
              "</style>\n",
              "<table border=\"1\" class=\"dataframe\">\n",
              "  <thead>\n",
              "    <tr style=\"text-align: right;\">\n",
              "      <th>Unnamed: 0</th>\n",
              "      <th>index</th>\n",
              "      <th>Total Assets</th>\n",
              "      <th>Total Equity</th>\n",
              "      <th>year</th>\n",
              "      <th>month</th>\n",
              "    </tr>\n",
              "  </thead>\n",
              "  <tbody>\n",
              "    <tr>\n",
              "      <th>1</th>\n",
              "      <td>MAR '22</td>\n",
              "      <td>249.05</td>\n",
              "      <td>147.1</td>\n",
              "      <td>2022</td>\n",
              "      <td>3</td>\n",
              "    </tr>\n",
              "    <tr>\n",
              "      <th>2</th>\n",
              "      <td>DEC '21</td>\n",
              "      <td>239.54</td>\n",
              "      <td>139.94</td>\n",
              "      <td>2021</td>\n",
              "      <td>12</td>\n",
              "    </tr>\n",
              "    <tr>\n",
              "      <th>3</th>\n",
              "      <td>SEP '21</td>\n",
              "      <td>239.95</td>\n",
              "      <td>136.72</td>\n",
              "      <td>2021</td>\n",
              "      <td>9</td>\n",
              "    </tr>\n",
              "    <tr>\n",
              "      <th>4</th>\n",
              "      <td>JUN '21</td>\n",
              "      <td>242.81</td>\n",
              "      <td>133.91</td>\n",
              "      <td>2021</td>\n",
              "      <td>6</td>\n",
              "    </tr>\n",
              "    <tr>\n",
              "      <th>5</th>\n",
              "      <td>MAR '21</td>\n",
              "      <td>241.65</td>\n",
              "      <td>132.93</td>\n",
              "      <td>2021</td>\n",
              "      <td>3</td>\n",
              "    </tr>\n",
              "  </tbody>\n",
              "</table>\n",
              "</div>"
            ],
            "text/plain": [
              "Unnamed: 0    index Total Assets Total Equity  year  month\n",
              "1           MAR '22       249.05        147.1  2022      3\n",
              "2           DEC '21       239.54       139.94  2021     12\n",
              "3           SEP '21       239.95       136.72  2021      9\n",
              "4           JUN '21       242.81       133.91  2021      6\n",
              "5           MAR '21       241.65       132.93  2021      3"
            ]
          },
          "execution_count": 102,
          "metadata": {},
          "output_type": "execute_result"
        }
      ],
      "source": [
        "# convert year and month\n",
        "dfbs6['year'] = dfbs6['index'].apply(lambda x : int(x.split(' \\'')[1]) + 2000)\n",
        "dfbs6['month'] = dfbs6['index'].apply(lambda x : convMonth(x.split(' \\'')[0]))\n",
        "dfbs6.head()"
      ]
    },
    {
      "cell_type": "code",
      "execution_count": 110,
      "metadata": {},
      "outputs": [
        {
          "data": {
            "text/plain": [
              "(267, 5)"
            ]
          },
          "execution_count": 110,
          "metadata": {},
          "output_type": "execute_result"
        }
      ],
      "source": [
        "dfbsf = dfbs6.sort_values(by=['year','month'])\n",
        "dfbsf.shape"
      ]
    },
    {
      "cell_type": "markdown",
      "metadata": {},
      "source": [
        "#### is df"
      ]
    },
    {
      "cell_type": "code",
      "execution_count": 42,
      "metadata": {},
      "outputs": [
        {
          "data": {
            "text/html": [
              "<div>\n",
              "<style scoped>\n",
              "    .dataframe tbody tr th:only-of-type {\n",
              "        vertical-align: middle;\n",
              "    }\n",
              "\n",
              "    .dataframe tbody tr th {\n",
              "        vertical-align: top;\n",
              "    }\n",
              "\n",
              "    .dataframe thead th {\n",
              "        text-align: right;\n",
              "    }\n",
              "</style>\n",
              "<table border=\"1\" class=\"dataframe\">\n",
              "  <thead>\n",
              "    <tr style=\"text-align: right;\">\n",
              "      <th>Unnamed: 0</th>\n",
              "      <th>index</th>\n",
              "      <th>Sales</th>\n",
              "      <th>Cost of Goods Sold (COGS) incl. D&amp;A</th>\n",
              "      <th>COGS excluding D&amp;A</th>\n",
              "      <th>Depreciation &amp; Amortization Expense</th>\n",
              "      <th>Depreciation</th>\n",
              "      <th>Gross Income</th>\n",
              "      <th>SG&amp;A Expense</th>\n",
              "      <th>Other SG&amp;A</th>\n",
              "      <th>Other Operating Expense</th>\n",
              "      <th>...</th>\n",
              "      <th>EPS (diluted)</th>\n",
              "      <th>Diluted Shares Outstanding</th>\n",
              "      <th>Total Shares Outstanding</th>\n",
              "      <th>Earnings Persistence</th>\n",
              "      <th>Dividends per Share</th>\n",
              "      <th>Payout Ratio</th>\n",
              "      <th>EBITDA</th>\n",
              "      <th>EBITDA</th>\n",
              "      <th>EBIT</th>\n",
              "      <th>Depreciation &amp; Amortization Expense</th>\n",
              "    </tr>\n",
              "  </thead>\n",
              "  <tbody>\n",
              "    <tr>\n",
              "      <th>1</th>\n",
              "      <td>MAR '22</td>\n",
              "      <td>53187.0</td>\n",
              "      <td>42045.0</td>\n",
              "      <td>38256.0</td>\n",
              "      <td>3789.0</td>\n",
              "      <td>3789.0</td>\n",
              "      <td>11142.0</td>\n",
              "      <td>1031.0</td>\n",
              "      <td>1031.0</td>\n",
              "      <td>2002.0</td>\n",
              "      <td>...</td>\n",
              "      <td>3.2188</td>\n",
              "      <td>1944.542</td>\n",
              "      <td>1964.813456</td>\n",
              "      <td>89.786</td>\n",
              "      <td>1.42</td>\n",
              "      <td>44.11582</td>\n",
              "      <td>NaN</td>\n",
              "      <td>11898.0</td>\n",
              "      <td>8109.0</td>\n",
              "      <td>3789.0</td>\n",
              "    </tr>\n",
              "    <tr>\n",
              "      <th>2</th>\n",
              "      <td>DEC '21</td>\n",
              "      <td>46207.0</td>\n",
              "      <td>37420.0</td>\n",
              "      <td>32958.0</td>\n",
              "      <td>4462.0</td>\n",
              "      <td>4462.0</td>\n",
              "      <td>8787.0</td>\n",
              "      <td>1357.0</td>\n",
              "      <td>1357.0</td>\n",
              "      <td>1779.0</td>\n",
              "      <td>...</td>\n",
              "      <td>2.63</td>\n",
              "      <td>1922.082</td>\n",
              "      <td>1929.806057</td>\n",
              "      <td>89.972</td>\n",
              "      <td>1.34</td>\n",
              "      <td>50.95057</td>\n",
              "      <td>NaN</td>\n",
              "      <td>10113.0</td>\n",
              "      <td>5651.0</td>\n",
              "      <td>4462.0</td>\n",
              "    </tr>\n",
              "    <tr>\n",
              "      <th>3</th>\n",
              "      <td>SEP '21</td>\n",
              "      <td>42349.0</td>\n",
              "      <td>33628.0</td>\n",
              "      <td>29288.0</td>\n",
              "      <td>4340.0</td>\n",
              "      <td>4340.0</td>\n",
              "      <td>8721.0</td>\n",
              "      <td>757.0</td>\n",
              "      <td>757.0</td>\n",
              "      <td>2075.0</td>\n",
              "      <td>...</td>\n",
              "      <td>3.181</td>\n",
              "      <td>1921.095</td>\n",
              "      <td>1927.685919</td>\n",
              "      <td>89.344</td>\n",
              "      <td>1.34</td>\n",
              "      <td>42.125118</td>\n",
              "      <td>NaN</td>\n",
              "      <td>10229.0</td>\n",
              "      <td>5889.0</td>\n",
              "      <td>4340.0</td>\n",
              "    </tr>\n",
              "  </tbody>\n",
              "</table>\n",
              "<p>3 rows × 48 columns</p>\n",
              "</div>"
            ],
            "text/plain": [
              "Unnamed: 0    index    Sales Cost of Goods Sold (COGS) incl. D&A  \\\n",
              "1           MAR '22  53187.0                             42045.0   \n",
              "2           DEC '21  46207.0                             37420.0   \n",
              "3           SEP '21  42349.0                             33628.0   \n",
              "\n",
              "Unnamed: 0 COGS excluding D&A Depreciation & Amortization Expense  \\\n",
              "1                     38256.0                              3789.0   \n",
              "2                     32958.0                              4462.0   \n",
              "3                     29288.0                              4340.0   \n",
              "\n",
              "Unnamed: 0 Depreciation Gross Income SG&A Expense Other SG&A  \\\n",
              "1                3789.0      11142.0       1031.0     1031.0   \n",
              "2                4462.0       8787.0       1357.0     1357.0   \n",
              "3                4340.0       8721.0        757.0      757.0   \n",
              "\n",
              "Unnamed: 0 Other Operating Expense  ... EPS (diluted)  \\\n",
              "1                           2002.0  ...        3.2188   \n",
              "2                           1779.0  ...          2.63   \n",
              "3                           2075.0  ...         3.181   \n",
              "\n",
              "Unnamed: 0 Diluted Shares Outstanding Total Shares Outstanding  \\\n",
              "1                            1944.542              1964.813456   \n",
              "2                            1922.082              1929.806057   \n",
              "3                            1921.095              1927.685919   \n",
              "\n",
              "Unnamed: 0 Earnings Persistence Dividends per Share Payout Ratio EBITDA  \\\n",
              "1                        89.786                1.42     44.11582    NaN   \n",
              "2                        89.972                1.34     50.95057    NaN   \n",
              "3                        89.344                1.34    42.125118    NaN   \n",
              "\n",
              "Unnamed: 0   EBITDA    EBIT Depreciation & Amortization Expense  \n",
              "1           11898.0  8109.0                              3789.0  \n",
              "2           10113.0  5651.0                              4462.0  \n",
              "3           10229.0  5889.0                              4340.0  \n",
              "\n",
              "[3 rows x 48 columns]"
            ]
          },
          "execution_count": 42,
          "metadata": {},
          "output_type": "execute_result"
        }
      ],
      "source": [
        "# Income Statement - Clean Balance Sheet\n",
        "# transpose df\n",
        "df_is1 = df_is.T\n",
        "\n",
        "# assign column names\n",
        "df_is1.columns = df_is1.iloc[0,:]\n",
        "\n",
        "# reset index and drop first row\n",
        "df_is2 = df_is1.reset_index().iloc[1:,:]\n",
        "df_is2.head(3)"
      ]
    },
    {
      "cell_type": "code",
      "execution_count": 44,
      "metadata": {},
      "outputs": [
        {
          "data": {
            "text/plain": [
              "Index(['index', 'Sales', 'Cost of Goods Sold (COGS) incl. D&A',\n",
              "       'COGS excluding D&A', 'Depreciation & Amortization Expense',\n",
              "       'Depreciation', 'Gross Income', 'SG&A Expense', 'Other SG&A',\n",
              "       'Other Operating Expense', 'EBIT (Operating Income)',\n",
              "       'Nonoperating Income - Net', 'Equity in Earnings of Affiliates',\n",
              "       'Other Income (Expense)', 'Interest Expense', 'Gross Interest Expense',\n",
              "       'Interest Capitalized', 'Unusual Expense - Net', 'Impairments',\n",
              "       'Property,Plant & Equipment', 'Financial Fixed Assets',\n",
              "       'Restructuring Expense', 'Unrealized Valuation Gain/Loss',\n",
              "       'Hedges/Derivatives', 'Excpl Chrgs - Others', 'Calamitous Events',\n",
              "       'Pretax Income', 'Income Taxes', 'Equity in Earnings of Affiliates',\n",
              "       'Consolidated Net Income', 'Minority Interest', 'Net Income',\n",
              "       'Discontinued Operations', 'Net Income available to Common',\n",
              "       'Per Share', 'EPS (recurring)', 'Basic Shares Outstanding',\n",
              "       'Total Shares Outstanding', 'EPS (diluted)',\n",
              "       'Diluted Shares Outstanding', 'Total Shares Outstanding',\n",
              "       'Earnings Persistence', 'Dividends per Share', 'Payout Ratio', 'EBITDA',\n",
              "       'EBITDA', 'EBIT', 'Depreciation & Amortization Expense'],\n",
              "      dtype='object', name='Unnamed: 0')"
            ]
          },
          "execution_count": 44,
          "metadata": {},
          "output_type": "execute_result"
        }
      ],
      "source": [
        "# see the columns\n",
        "df_is2.columns"
      ]
    },
    {
      "cell_type": "code",
      "execution_count": 83,
      "metadata": {},
      "outputs": [
        {
          "data": {
            "text/plain": [
              "(89, 3)"
            ]
          },
          "execution_count": 83,
          "metadata": {},
          "output_type": "execute_result"
        }
      ],
      "source": [
        "# select needed columns\n",
        "df_is3 = df_is2[['index','Sales','Net Income']].iloc[:89,:]\n",
        "df_is3.shape"
      ]
    },
    {
      "cell_type": "code",
      "execution_count": 86,
      "metadata": {},
      "outputs": [],
      "source": [
        "# append df to 267 month\n",
        "dfis4 = df_is3\n",
        "dfis5 = dfis4.append(df_is3)\n",
        "dfis6 = dfis5.append(df_is3)\n"
      ]
    },
    {
      "cell_type": "code",
      "execution_count": 87,
      "metadata": {},
      "outputs": [
        {
          "data": {
            "text/plain": [
              "(267, 3)"
            ]
          },
          "execution_count": 87,
          "metadata": {},
          "output_type": "execute_result"
        }
      ],
      "source": [
        "# 22 year 3 month = 267 month\n",
        "dfis6.shape"
      ]
    },
    {
      "cell_type": "code",
      "execution_count": 95,
      "metadata": {},
      "outputs": [
        {
          "data": {
            "text/html": [
              "<div>\n",
              "<style scoped>\n",
              "    .dataframe tbody tr th:only-of-type {\n",
              "        vertical-align: middle;\n",
              "    }\n",
              "\n",
              "    .dataframe tbody tr th {\n",
              "        vertical-align: top;\n",
              "    }\n",
              "\n",
              "    .dataframe thead th {\n",
              "        text-align: right;\n",
              "    }\n",
              "</style>\n",
              "<table border=\"1\" class=\"dataframe\">\n",
              "  <thead>\n",
              "    <tr style=\"text-align: right;\">\n",
              "      <th>Unnamed: 0</th>\n",
              "      <th>index</th>\n",
              "      <th>Sales</th>\n",
              "      <th>Net Income</th>\n",
              "      <th>year</th>\n",
              "      <th>month</th>\n",
              "    </tr>\n",
              "  </thead>\n",
              "  <tbody>\n",
              "    <tr>\n",
              "      <th>1</th>\n",
              "      <td>MAR '22</td>\n",
              "      <td>53187.0</td>\n",
              "      <td>6259.0</td>\n",
              "      <td>2022</td>\n",
              "      <td>3</td>\n",
              "    </tr>\n",
              "    <tr>\n",
              "      <th>2</th>\n",
              "      <td>DEC '21</td>\n",
              "      <td>46207.0</td>\n",
              "      <td>5055.0</td>\n",
              "      <td>2021</td>\n",
              "      <td>12</td>\n",
              "    </tr>\n",
              "    <tr>\n",
              "      <th>3</th>\n",
              "      <td>SEP '21</td>\n",
              "      <td>42349.0</td>\n",
              "      <td>6111.0</td>\n",
              "      <td>2021</td>\n",
              "      <td>9</td>\n",
              "    </tr>\n",
              "    <tr>\n",
              "      <th>4</th>\n",
              "      <td>JUN '21</td>\n",
              "      <td>36385.0</td>\n",
              "      <td>3082.0</td>\n",
              "      <td>2021</td>\n",
              "      <td>6</td>\n",
              "    </tr>\n",
              "    <tr>\n",
              "      <th>5</th>\n",
              "      <td>MAR '21</td>\n",
              "      <td>31350.0</td>\n",
              "      <td>1377.0</td>\n",
              "      <td>2021</td>\n",
              "      <td>3</td>\n",
              "    </tr>\n",
              "  </tbody>\n",
              "</table>\n",
              "</div>"
            ],
            "text/plain": [
              "Unnamed: 0    index    Sales Net Income  year  month\n",
              "1           MAR '22  53187.0     6259.0  2022      3\n",
              "2           DEC '21  46207.0     5055.0  2021     12\n",
              "3           SEP '21  42349.0     6111.0  2021      9\n",
              "4           JUN '21  36385.0     3082.0  2021      6\n",
              "5           MAR '21  31350.0     1377.0  2021      3"
            ]
          },
          "execution_count": 95,
          "metadata": {},
          "output_type": "execute_result"
        }
      ],
      "source": [
        "# create year and month columns\n",
        "dfis6['year'] = dfis6['index'].apply(lambda x : int(x.split(' \\'')[1]) + 2000)\n",
        "dfis6['month'] = dfis6['index'].apply(lambda x : convMonth(x.split(' \\'')[0]))\n",
        "dfis6.head()"
      ]
    },
    {
      "cell_type": "code",
      "execution_count": 111,
      "metadata": {},
      "outputs": [
        {
          "data": {
            "text/plain": [
              "(267, 5)"
            ]
          },
          "execution_count": 111,
          "metadata": {},
          "output_type": "execute_result"
        }
      ],
      "source": [
        "# sort by values\n",
        "dfisf = dfis6.sort_values(by=['year','month'])\n",
        "dfisf.shape"
      ]
    },
    {
      "cell_type": "code",
      "execution_count": 144,
      "metadata": {},
      "outputs": [
        {
          "data": {
            "text/html": [
              "<div>\n",
              "<style scoped>\n",
              "    .dataframe tbody tr th:only-of-type {\n",
              "        vertical-align: middle;\n",
              "    }\n",
              "\n",
              "    .dataframe tbody tr th {\n",
              "        vertical-align: top;\n",
              "    }\n",
              "\n",
              "    .dataframe thead th {\n",
              "        text-align: right;\n",
              "    }\n",
              "</style>\n",
              "<table border=\"1\" class=\"dataframe\">\n",
              "  <thead>\n",
              "    <tr style=\"text-align: right;\">\n",
              "      <th></th>\n",
              "      <th>Unnamed: 0</th>\n",
              "      <th>Year</th>\n",
              "      <th>Month</th>\n",
              "      <th>Inflation Rate</th>\n",
              "    </tr>\n",
              "  </thead>\n",
              "  <tbody>\n",
              "    <tr>\n",
              "      <th>0</th>\n",
              "      <td>22</td>\n",
              "      <td>2000</td>\n",
              "      <td>Jan</td>\n",
              "      <td>2.7</td>\n",
              "    </tr>\n",
              "    <tr>\n",
              "      <th>1</th>\n",
              "      <td>45</td>\n",
              "      <td>2000</td>\n",
              "      <td>Feb</td>\n",
              "      <td>3.2</td>\n",
              "    </tr>\n",
              "    <tr>\n",
              "      <th>2</th>\n",
              "      <td>68</td>\n",
              "      <td>2000</td>\n",
              "      <td>Mar</td>\n",
              "      <td>3.8</td>\n",
              "    </tr>\n",
              "    <tr>\n",
              "      <th>3</th>\n",
              "      <td>91</td>\n",
              "      <td>2000</td>\n",
              "      <td>Apr</td>\n",
              "      <td>3.1</td>\n",
              "    </tr>\n",
              "    <tr>\n",
              "      <th>4</th>\n",
              "      <td>114</td>\n",
              "      <td>2000</td>\n",
              "      <td>May</td>\n",
              "      <td>3.2</td>\n",
              "    </tr>\n",
              "    <tr>\n",
              "      <th>...</th>\n",
              "      <td>...</td>\n",
              "      <td>...</td>\n",
              "      <td>...</td>\n",
              "      <td>...</td>\n",
              "    </tr>\n",
              "    <tr>\n",
              "      <th>262</th>\n",
              "      <td>231</td>\n",
              "      <td>2021</td>\n",
              "      <td>Nov</td>\n",
              "      <td>6.8</td>\n",
              "    </tr>\n",
              "    <tr>\n",
              "      <th>263</th>\n",
              "      <td>254</td>\n",
              "      <td>2021</td>\n",
              "      <td>Dec</td>\n",
              "      <td>7.0</td>\n",
              "    </tr>\n",
              "    <tr>\n",
              "      <th>264</th>\n",
              "      <td>0</td>\n",
              "      <td>2022</td>\n",
              "      <td>Jan</td>\n",
              "      <td>7.5</td>\n",
              "    </tr>\n",
              "    <tr>\n",
              "      <th>265</th>\n",
              "      <td>23</td>\n",
              "      <td>2022</td>\n",
              "      <td>Feb</td>\n",
              "      <td>7.9</td>\n",
              "    </tr>\n",
              "    <tr>\n",
              "      <th>266</th>\n",
              "      <td>46</td>\n",
              "      <td>2022</td>\n",
              "      <td>Mar</td>\n",
              "      <td>8.5</td>\n",
              "    </tr>\n",
              "  </tbody>\n",
              "</table>\n",
              "<p>267 rows × 4 columns</p>\n",
              "</div>"
            ],
            "text/plain": [
              "     Unnamed: 0  Year Month Inflation Rate\n",
              "0            22  2000   Jan            2.7\n",
              "1            45  2000   Feb            3.2\n",
              "2            68  2000   Mar            3.8\n",
              "3            91  2000   Apr            3.1\n",
              "4           114  2000   May            3.2\n",
              "..          ...   ...   ...            ...\n",
              "262         231  2021   Nov            6.8\n",
              "263         254  2021   Dec            7.0\n",
              "264           0  2022   Jan            7.5\n",
              "265          23  2022   Feb            7.9\n",
              "266          46  2022   Mar            8.5\n",
              "\n",
              "[267 rows x 4 columns]"
            ]
          },
          "execution_count": 144,
          "metadata": {},
          "output_type": "execute_result"
        }
      ],
      "source": [
        "# format inflation df\n",
        "dfi1 = df_inflation.iloc[:267,:]\n",
        "dfi1"
      ]
    },
    {
      "cell_type": "code",
      "execution_count": 153,
      "metadata": {},
      "outputs": [],
      "source": [
        "df_gas.Date = df_gas.Date.astype(str)"
      ]
    },
    {
      "cell_type": "code",
      "execution_count": 154,
      "metadata": {},
      "outputs": [
        {
          "data": {
            "text/html": [
              "<div>\n",
              "<style scoped>\n",
              "    .dataframe tbody tr th:only-of-type {\n",
              "        vertical-align: middle;\n",
              "    }\n",
              "\n",
              "    .dataframe tbody tr th {\n",
              "        vertical-align: top;\n",
              "    }\n",
              "\n",
              "    .dataframe thead th {\n",
              "        text-align: right;\n",
              "    }\n",
              "</style>\n",
              "<table border=\"1\" class=\"dataframe\">\n",
              "  <thead>\n",
              "    <tr style=\"text-align: right;\">\n",
              "      <th></th>\n",
              "      <th>Date</th>\n",
              "      <th>U.S. All Grades All Formulations Retail Gasoline Prices (Dollars per Gallon)</th>\n",
              "      <th>year</th>\n",
              "      <th>month</th>\n",
              "    </tr>\n",
              "  </thead>\n",
              "  <tbody>\n",
              "    <tr>\n",
              "      <th>0</th>\n",
              "      <td>1993-04-15</td>\n",
              "      <td>1.078</td>\n",
              "      <td>1993</td>\n",
              "      <td>04</td>\n",
              "    </tr>\n",
              "    <tr>\n",
              "      <th>1</th>\n",
              "      <td>1993-05-15</td>\n",
              "      <td>1.100</td>\n",
              "      <td>1993</td>\n",
              "      <td>05</td>\n",
              "    </tr>\n",
              "    <tr>\n",
              "      <th>2</th>\n",
              "      <td>1993-06-15</td>\n",
              "      <td>1.097</td>\n",
              "      <td>1993</td>\n",
              "      <td>06</td>\n",
              "    </tr>\n",
              "    <tr>\n",
              "      <th>3</th>\n",
              "      <td>1993-07-15</td>\n",
              "      <td>1.078</td>\n",
              "      <td>1993</td>\n",
              "      <td>07</td>\n",
              "    </tr>\n",
              "    <tr>\n",
              "      <th>4</th>\n",
              "      <td>1993-08-15</td>\n",
              "      <td>1.062</td>\n",
              "      <td>1993</td>\n",
              "      <td>08</td>\n",
              "    </tr>\n",
              "    <tr>\n",
              "      <th>...</th>\n",
              "      <td>...</td>\n",
              "      <td>...</td>\n",
              "      <td>...</td>\n",
              "      <td>...</td>\n",
              "    </tr>\n",
              "    <tr>\n",
              "      <th>343</th>\n",
              "      <td>2021-11-15</td>\n",
              "      <td>3.491</td>\n",
              "      <td>2021</td>\n",
              "      <td>11</td>\n",
              "    </tr>\n",
              "    <tr>\n",
              "      <th>344</th>\n",
              "      <td>2021-12-15</td>\n",
              "      <td>3.406</td>\n",
              "      <td>2021</td>\n",
              "      <td>12</td>\n",
              "    </tr>\n",
              "    <tr>\n",
              "      <th>345</th>\n",
              "      <td>2022-01-15</td>\n",
              "      <td>3.413</td>\n",
              "      <td>2022</td>\n",
              "      <td>01</td>\n",
              "    </tr>\n",
              "    <tr>\n",
              "      <th>346</th>\n",
              "      <td>2022-02-15</td>\n",
              "      <td>3.611</td>\n",
              "      <td>2022</td>\n",
              "      <td>02</td>\n",
              "    </tr>\n",
              "    <tr>\n",
              "      <th>347</th>\n",
              "      <td>2022-03-15</td>\n",
              "      <td>4.322</td>\n",
              "      <td>2022</td>\n",
              "      <td>03</td>\n",
              "    </tr>\n",
              "  </tbody>\n",
              "</table>\n",
              "<p>348 rows × 4 columns</p>\n",
              "</div>"
            ],
            "text/plain": [
              "           Date  \\\n",
              "0    1993-04-15   \n",
              "1    1993-05-15   \n",
              "2    1993-06-15   \n",
              "3    1993-07-15   \n",
              "4    1993-08-15   \n",
              "..          ...   \n",
              "343  2021-11-15   \n",
              "344  2021-12-15   \n",
              "345  2022-01-15   \n",
              "346  2022-02-15   \n",
              "347  2022-03-15   \n",
              "\n",
              "     U.S. All Grades All Formulations Retail Gasoline Prices (Dollars per Gallon)  \\\n",
              "0                                                1.078                              \n",
              "1                                                1.100                              \n",
              "2                                                1.097                              \n",
              "3                                                1.078                              \n",
              "4                                                1.062                              \n",
              "..                                                 ...                              \n",
              "343                                              3.491                              \n",
              "344                                              3.406                              \n",
              "345                                              3.413                              \n",
              "346                                              3.611                              \n",
              "347                                              4.322                              \n",
              "\n",
              "     year month  \n",
              "0    1993    04  \n",
              "1    1993    05  \n",
              "2    1993    06  \n",
              "3    1993    07  \n",
              "4    1993    08  \n",
              "..    ...   ...  \n",
              "343  2021    11  \n",
              "344  2021    12  \n",
              "345  2022    01  \n",
              "346  2022    02  \n",
              "347  2022    03  \n",
              "\n",
              "[348 rows x 4 columns]"
            ]
          },
          "execution_count": 154,
          "metadata": {},
          "output_type": "execute_result"
        }
      ],
      "source": [
        "df_gas['year'] = df_gas.Date.apply(lambda x : x.split('-')[0])\n",
        "df_gas['month'] = df_gas.Date.apply(lambda x : x.split('-')[1])\n",
        "df_gas"
      ]
    },
    {
      "cell_type": "code",
      "execution_count": 157,
      "metadata": {},
      "outputs": [],
      "source": [
        "# get dfgas1\n",
        "dfgas1 = df_gas.iloc[81:,:]"
      ]
    },
    {
      "cell_type": "code",
      "execution_count": 158,
      "metadata": {},
      "outputs": [],
      "source": [
        "# create merged df\n",
        "dfmerge = dfstockf\n",
        "\n",
        "#rewrite quartly month into 12 month\n",
        "dfmerge['sales'] = list(dfisf.Sales)\n",
        "dfmerge['netIncome'] = list(dfisf['Net Income'])\n",
        "dfmerge['Total Assets'] = list(dfbsf['Total Assets'])\n",
        "dfmerge['Total Equity'] = list(dfbsf['Total Equity'])\n",
        "dfmerge['inflation'] = list(dfi1['Inflation Rate'])\n",
        "dfmerge['gas'] = list(dfgas1['U.S. All Grades All Formulations Retail Gasoline Prices (Dollars per Gallon)'])\n",
        "\n",
        "# create the dfmerge1 reset index, rename columns\n",
        "dfmerge1 = dfmerge.reset_index(drop=True).rename(columns={'5. adjusted close':'adjustedClose','6. volume':'volume','Total Assets': 'assets','Total Equity': 'equity'})\n",
        "\n",
        "''' Units\n",
        "sales - millions\n",
        "netIncome - millions\n",
        "asset - billions\n",
        "equity - billions\n",
        "\n",
        "'''\n",
        "\n",
        "# assign new df\n",
        "dfmerge2 = dfmerge1\n",
        "\n",
        "# convert into millions\n",
        "dfmerge2.equity = dfmerge1.equity * 1000\n",
        "dfmerge2.assets = dfmerge1.assets * 1000\n",
        "# convert into 3 month average\n",
        "dfmerge2.sales = dfmerge1.sales/3\n",
        "dfmerge2.netIncome = dfmerge1.netIncome/3\n",
        "dfmerge2.year = dfmerge2.year.astype(int)\n",
        "dfmerge2.inflation = dfmerge2.inflation.astype(float)"
      ]
    },
    {
      "cell_type": "code",
      "execution_count": 159,
      "metadata": {},
      "outputs": [
        {
          "name": "stdout",
          "output_type": "stream",
          "text": [
            "<class 'pandas.core.frame.DataFrame'>\n",
            "RangeIndex: 267 entries, 0 to 266\n",
            "Data columns (total 10 columns):\n",
            " #   Column         Non-Null Count  Dtype  \n",
            "---  ------         --------------  -----  \n",
            " 0   adjustedClose  267 non-null    float64\n",
            " 1   volume         267 non-null    float64\n",
            " 2   year           267 non-null    int32  \n",
            " 3   month          267 non-null    int64  \n",
            " 4   sales          267 non-null    float64\n",
            " 5   netIncome      267 non-null    float64\n",
            " 6   assets         267 non-null    float64\n",
            " 7   equity         267 non-null    float64\n",
            " 8   inflation      267 non-null    float64\n",
            " 9   gas            267 non-null    float64\n",
            "dtypes: float64(8), int32(1), int64(1)\n",
            "memory usage: 19.9 KB\n"
          ]
        }
      ],
      "source": [
        "dfmerge2.info()"
      ]
    },
    {
      "cell_type": "code",
      "execution_count": 161,
      "metadata": {},
      "outputs": [],
      "source": [
        "dfmerge2.to_csv('data/final_df.csv')"
      ]
    },
    {
      "cell_type": "code",
      "execution_count": null,
      "metadata": {},
      "outputs": [],
      "source": []
    },
    {
      "cell_type": "code",
      "execution_count": null,
      "metadata": {},
      "outputs": [],
      "source": []
    },
    {
      "cell_type": "code",
      "execution_count": null,
      "metadata": {},
      "outputs": [],
      "source": []
    },
    {
      "cell_type": "markdown",
      "metadata": {
        "id": "H6cB12pZpLGw"
      },
      "source": [
        "## Exploratory Data Analysis (EDA)"
      ]
    },
    {
      "cell_type": "markdown",
      "metadata": {
        "id": "_cR2uuTjpQzv"
      },
      "source": [
        "#### Machine Learning"
      ]
    },
    {
      "cell_type": "code",
      "execution_count": null,
      "metadata": {},
      "outputs": [],
      "source": []
    },
    {
      "cell_type": "code",
      "execution_count": null,
      "metadata": {},
      "outputs": [],
      "source": []
    },
    {
      "cell_type": "code",
      "execution_count": null,
      "metadata": {},
      "outputs": [],
      "source": []
    },
    {
      "cell_type": "code",
      "execution_count": null,
      "metadata": {},
      "outputs": [],
      "source": []
    },
    {
      "cell_type": "code",
      "execution_count": null,
      "metadata": {},
      "outputs": [],
      "source": []
    },
    {
      "cell_type": "code",
      "execution_count": null,
      "metadata": {},
      "outputs": [],
      "source": []
    },
    {
      "cell_type": "markdown",
      "metadata": {
        "id": "P0klcvvXpTiu"
      },
      "source": [
        "#### Conclusion"
      ]
    },
    {
      "cell_type": "markdown",
      "metadata": {
        "id": "0m1oT2vHonqA"
      },
      "source": [
        "\n",
        "#### References\n"
      ]
    },
    {
      "cell_type": "markdown",
      "metadata": {
        "id": "86ExncCxpHhv"
      },
      "source": [
        "----------\n",
        "CIS43 Project Link<br>\n",
        "https://colab.research.google.com/drive/1OS0i9lEitkL7PTE7TpLuWVoqkjS0BPYC\n",
        "<br>\n",
        "\n",
        "Load local file onto colab<br>\n",
        "https://www.youtube.com/watch?v=6HFlwqK3oeo\n",
        "<br>\n",
        "<br>\n",
        "\n",
        "----------\n",
        "Inflation Data<br>\n",
        "https://www.usinflationcalculator.com/inflation/current-inflation-rates/#:~:text=The%20annual%20inflation%20rate%20for,at%208%3A30%20a.m.%20ET.\n",
        "<br>\n",
        "<br>\n",
        "Gas Prices<br>\n",
        "https://www.kaggle.com/datasets/mruanova/us-gasoline-and-diesel-retail-prices-19952021\n",
        "<br>\n",
        "<br>"
      ]
    },
    {
      "cell_type": "code",
      "execution_count": null,
      "metadata": {
        "id": "V8n5zrw6qtz6"
      },
      "outputs": [],
      "source": []
    }
  ],
  "metadata": {
    "colab": {
      "collapsed_sections": [
        "ABfcyIvllWpC",
        "bJ7pU5CkphNK"
      ],
      "name": "textMiningEV.ipynb",
      "provenance": []
    },
    "kernelspec": {
      "display_name": "desktop_env",
      "language": "python",
      "name": "desktop_env"
    },
    "language_info": {
      "codemirror_mode": {
        "name": "ipython",
        "version": 3
      },
      "file_extension": ".py",
      "mimetype": "text/x-python",
      "name": "python",
      "nbconvert_exporter": "python",
      "pygments_lexer": "ipython3",
      "version": "3.9.6"
    }
  },
  "nbformat": 4,
  "nbformat_minor": 0
}
