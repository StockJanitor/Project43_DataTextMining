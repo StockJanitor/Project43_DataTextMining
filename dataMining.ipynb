{
 "cells": [
  {
   "cell_type": "code",
   "execution_count": 1,
   "metadata": {},
   "outputs": [],
   "source": [
    "# import our libraries\n",
    "import requests\n",
    "import pandas as pd\n",
    "from bs4 import BeautifulSoup"
   ]
  },
  {
   "cell_type": "code",
   "execution_count": 4,
   "metadata": {},
   "outputs": [
    {
     "data": {
      "text/plain": [
       "<sec-header>0001564590-21-039151.hdr.sgml : 20210729\n",
       "<acceptance-datetime>20210729162155\n",
       "ACCESSION NUMBER:\t\t0001564590-21-039151\n",
       "CONFORMED SUBMISSION TYPE:\t10-K\n",
       "PUBLIC DOCUMENT COUNT:\t\t133\n",
       "CONFORMED PERIOD OF REPORT:\t20210630\n",
       "FILED AS OF DATE:\t\t20210729\n",
       "DATE AS OF CHANGE:\t\t20210729\n",
       "\n",
       "FILER:\n",
       "\n",
       "\tCOMPANY DATA:\t\n",
       "\t\tCOMPANY CONFORMED NAME:\t\t\tMICROSOFT CORP\n",
       "\t\tCENTRAL INDEX KEY:\t\t\t0000789019\n",
       "\t\tSTANDARD INDUSTRIAL CLASSIFICATION:\tSERVICES-PREPACKAGED SOFTWARE [7372]\n",
       "\t\tIRS NUMBER:\t\t\t\t911144442\n",
       "\t\tSTATE OF INCORPORATION:\t\t\tWA\n",
       "\t\tFISCAL YEAR END:\t\t\t0630\n",
       "\n",
       "\tFILING VALUES:\n",
       "\t\tFORM TYPE:\t\t10-K\n",
       "\t\tSEC ACT:\t\t1934 Act\n",
       "\t\tSEC FILE NUMBER:\t001-37845\n",
       "\t\tFILM NUMBER:\t\t211127769\n",
       "\n",
       "\tBUSINESS ADDRESS:\t\n",
       "\t\tSTREET 1:\t\tONE MICROSOFT WAY\n",
       "\t\tCITY:\t\t\tREDMOND\n",
       "\t\tSTATE:\t\t\tWA\n",
       "\t\tZIP:\t\t\t98052-6399\n",
       "\t\tBUSINESS PHONE:\t\t425-882-8080\n",
       "\n",
       "\tMAIL ADDRESS:\t\n",
       "\t\tSTREET 1:\t\tONE MICROSOFT WAY\n",
       "\t\tCITY:\t\t\tREDMOND\n",
       "\t\tSTATE:\t\t\tWA\n",
       "\t\tZIP:\t\t\t98052-6399\n",
       "</acceptance-datetime></sec-header>"
      ]
     },
     "execution_count": 4,
     "metadata": {},
     "output_type": "execute_result"
    }
   ],
   "source": [
    "soup.find('sec-header')"
   ]
  },
  {
   "cell_type": "code",
   "execution_count": null,
   "metadata": {},
   "outputs": [],
   "source": [
    "#find all paragraph\n",
    "soup.find_all(\"p\")\n"
   ]
  }
 ],
 "metadata": {
  "interpreter": {
   "hash": "a078425411422aa865ededce911f5aebbd4cde69bb2ea2ab5956ec6a35024297"
  },
  "kernelspec": {
   "display_name": "desktop_env",
   "language": "python",
   "name": "desktop_env"
  },
  "language_info": {
   "codemirror_mode": {
    "name": "ipython",
    "version": 3
   },
   "file_extension": ".py",
   "mimetype": "text/x-python",
   "name": "python",
   "nbconvert_exporter": "python",
   "pygments_lexer": "ipython3",
   "version": "3.9.6"
  },
  "orig_nbformat": 4
 },
 "nbformat": 4,
 "nbformat_minor": 2
}
